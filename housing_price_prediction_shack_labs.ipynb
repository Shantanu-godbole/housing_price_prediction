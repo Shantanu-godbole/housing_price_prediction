{
 "cells": [
  {
   "cell_type": "markdown",
   "id": "a6a3cf7d",
   "metadata": {},
   "source": [
    "importing the necessary libraries"
   ]
  },
  {
   "cell_type": "code",
   "execution_count": 1,
   "id": "b1485c01",
   "metadata": {},
   "outputs": [],
   "source": [
    "import pandas as pd\n",
    "import numpy as np\n",
    "import matplotlib.pyplot as plt\n",
    "%matplotlib inline"
   ]
  },
  {
   "cell_type": "code",
   "execution_count": 2,
   "id": "6006f0ae",
   "metadata": {},
   "outputs": [],
   "source": [
    "df=pd.read_excel('shack_labs_assignment.xlsx')"
   ]
  },
  {
   "cell_type": "code",
   "execution_count": 3,
   "id": "3447f8dc",
   "metadata": {},
   "outputs": [
    {
     "data": {
      "text/html": [
       "<div>\n",
       "<style scoped>\n",
       "    .dataframe tbody tr th:only-of-type {\n",
       "        vertical-align: middle;\n",
       "    }\n",
       "\n",
       "    .dataframe tbody tr th {\n",
       "        vertical-align: top;\n",
       "    }\n",
       "\n",
       "    .dataframe thead th {\n",
       "        text-align: right;\n",
       "    }\n",
       "</style>\n",
       "<table border=\"1\" class=\"dataframe\">\n",
       "  <thead>\n",
       "    <tr style=\"text-align: right;\">\n",
       "      <th></th>\n",
       "      <th>Transaction date</th>\n",
       "      <th>House Age</th>\n",
       "      <th>Distance from nearest Metro station (km)</th>\n",
       "      <th>Number of convenience stores</th>\n",
       "      <th>latitude</th>\n",
       "      <th>longitude</th>\n",
       "      <th>Number of bedrooms</th>\n",
       "      <th>House size (sqft)</th>\n",
       "      <th>House price of unit area</th>\n",
       "    </tr>\n",
       "  </thead>\n",
       "  <tbody>\n",
       "    <tr>\n",
       "      <th>0</th>\n",
       "      <td>2012.916667</td>\n",
       "      <td>32.0</td>\n",
       "      <td>84.87882</td>\n",
       "      <td>10</td>\n",
       "      <td>24.98298</td>\n",
       "      <td>121.54024</td>\n",
       "      <td>1</td>\n",
       "      <td>575</td>\n",
       "      <td>37.9</td>\n",
       "    </tr>\n",
       "    <tr>\n",
       "      <th>1</th>\n",
       "      <td>2012.916667</td>\n",
       "      <td>19.5</td>\n",
       "      <td>306.59470</td>\n",
       "      <td>9</td>\n",
       "      <td>24.98034</td>\n",
       "      <td>121.53951</td>\n",
       "      <td>2</td>\n",
       "      <td>1240</td>\n",
       "      <td>42.2</td>\n",
       "    </tr>\n",
       "    <tr>\n",
       "      <th>2</th>\n",
       "      <td>2013.583333</td>\n",
       "      <td>13.3</td>\n",
       "      <td>561.98450</td>\n",
       "      <td>5</td>\n",
       "      <td>24.98746</td>\n",
       "      <td>121.54391</td>\n",
       "      <td>3</td>\n",
       "      <td>1060</td>\n",
       "      <td>47.3</td>\n",
       "    </tr>\n",
       "    <tr>\n",
       "      <th>3</th>\n",
       "      <td>2013.500000</td>\n",
       "      <td>13.3</td>\n",
       "      <td>561.98450</td>\n",
       "      <td>5</td>\n",
       "      <td>24.98746</td>\n",
       "      <td>121.54391</td>\n",
       "      <td>2</td>\n",
       "      <td>875</td>\n",
       "      <td>54.8</td>\n",
       "    </tr>\n",
       "    <tr>\n",
       "      <th>4</th>\n",
       "      <td>2012.833333</td>\n",
       "      <td>5.0</td>\n",
       "      <td>390.56840</td>\n",
       "      <td>5</td>\n",
       "      <td>24.97937</td>\n",
       "      <td>121.54245</td>\n",
       "      <td>1</td>\n",
       "      <td>491</td>\n",
       "      <td>43.1</td>\n",
       "    </tr>\n",
       "    <tr>\n",
       "      <th>...</th>\n",
       "      <td>...</td>\n",
       "      <td>...</td>\n",
       "      <td>...</td>\n",
       "      <td>...</td>\n",
       "      <td>...</td>\n",
       "      <td>...</td>\n",
       "      <td>...</td>\n",
       "      <td>...</td>\n",
       "      <td>...</td>\n",
       "    </tr>\n",
       "    <tr>\n",
       "      <th>409</th>\n",
       "      <td>2013.000000</td>\n",
       "      <td>13.7</td>\n",
       "      <td>4082.01500</td>\n",
       "      <td>0</td>\n",
       "      <td>24.94155</td>\n",
       "      <td>121.50381</td>\n",
       "      <td>3</td>\n",
       "      <td>803</td>\n",
       "      <td>15.4</td>\n",
       "    </tr>\n",
       "    <tr>\n",
       "      <th>410</th>\n",
       "      <td>2012.666667</td>\n",
       "      <td>5.6</td>\n",
       "      <td>90.45606</td>\n",
       "      <td>9</td>\n",
       "      <td>24.97433</td>\n",
       "      <td>121.54310</td>\n",
       "      <td>2</td>\n",
       "      <td>1278</td>\n",
       "      <td>50.0</td>\n",
       "    </tr>\n",
       "    <tr>\n",
       "      <th>411</th>\n",
       "      <td>2013.250000</td>\n",
       "      <td>18.8</td>\n",
       "      <td>390.96960</td>\n",
       "      <td>7</td>\n",
       "      <td>24.97923</td>\n",
       "      <td>121.53986</td>\n",
       "      <td>1</td>\n",
       "      <td>503</td>\n",
       "      <td>40.6</td>\n",
       "    </tr>\n",
       "    <tr>\n",
       "      <th>412</th>\n",
       "      <td>2013.000000</td>\n",
       "      <td>8.1</td>\n",
       "      <td>104.81010</td>\n",
       "      <td>5</td>\n",
       "      <td>24.96674</td>\n",
       "      <td>121.54067</td>\n",
       "      <td>1</td>\n",
       "      <td>597</td>\n",
       "      <td>52.5</td>\n",
       "    </tr>\n",
       "    <tr>\n",
       "      <th>413</th>\n",
       "      <td>2013.500000</td>\n",
       "      <td>6.5</td>\n",
       "      <td>90.45606</td>\n",
       "      <td>9</td>\n",
       "      <td>24.97433</td>\n",
       "      <td>121.54310</td>\n",
       "      <td>2</td>\n",
       "      <td>1097</td>\n",
       "      <td>63.9</td>\n",
       "    </tr>\n",
       "  </tbody>\n",
       "</table>\n",
       "<p>414 rows × 9 columns</p>\n",
       "</div>"
      ],
      "text/plain": [
       "     Transaction date  House Age  Distance from nearest Metro station (km)  \\\n",
       "0         2012.916667       32.0                                  84.87882   \n",
       "1         2012.916667       19.5                                 306.59470   \n",
       "2         2013.583333       13.3                                 561.98450   \n",
       "3         2013.500000       13.3                                 561.98450   \n",
       "4         2012.833333        5.0                                 390.56840   \n",
       "..                ...        ...                                       ...   \n",
       "409       2013.000000       13.7                                4082.01500   \n",
       "410       2012.666667        5.6                                  90.45606   \n",
       "411       2013.250000       18.8                                 390.96960   \n",
       "412       2013.000000        8.1                                 104.81010   \n",
       "413       2013.500000        6.5                                  90.45606   \n",
       "\n",
       "     Number of convenience stores  latitude  longitude  Number of bedrooms  \\\n",
       "0                              10  24.98298  121.54024                   1   \n",
       "1                               9  24.98034  121.53951                   2   \n",
       "2                               5  24.98746  121.54391                   3   \n",
       "3                               5  24.98746  121.54391                   2   \n",
       "4                               5  24.97937  121.54245                   1   \n",
       "..                            ...       ...        ...                 ...   \n",
       "409                             0  24.94155  121.50381                   3   \n",
       "410                             9  24.97433  121.54310                   2   \n",
       "411                             7  24.97923  121.53986                   1   \n",
       "412                             5  24.96674  121.54067                   1   \n",
       "413                             9  24.97433  121.54310                   2   \n",
       "\n",
       "     House size (sqft)  House price of unit area  \n",
       "0                  575                      37.9  \n",
       "1                 1240                      42.2  \n",
       "2                 1060                      47.3  \n",
       "3                  875                      54.8  \n",
       "4                  491                      43.1  \n",
       "..                 ...                       ...  \n",
       "409                803                      15.4  \n",
       "410               1278                      50.0  \n",
       "411                503                      40.6  \n",
       "412                597                      52.5  \n",
       "413               1097                      63.9  \n",
       "\n",
       "[414 rows x 9 columns]"
      ]
     },
     "execution_count": 3,
     "metadata": {},
     "output_type": "execute_result"
    }
   ],
   "source": [
    "df"
   ]
  },
  {
   "cell_type": "code",
   "execution_count": 4,
   "id": "f3d21cb9",
   "metadata": {},
   "outputs": [
    {
     "data": {
      "text/plain": [
       "Transaction date                            float64\n",
       "House Age                                   float64\n",
       "Distance from nearest Metro station (km)    float64\n",
       "Number of convenience stores                  int64\n",
       "latitude                                    float64\n",
       "longitude                                   float64\n",
       "Number of bedrooms                            int64\n",
       "House size (sqft)                             int64\n",
       "House price of unit area                    float64\n",
       "dtype: object"
      ]
     },
     "execution_count": 4,
     "metadata": {},
     "output_type": "execute_result"
    }
   ],
   "source": [
    "df.dtypes"
   ]
  },
  {
   "cell_type": "code",
   "execution_count": 5,
   "id": "06eaa6ab",
   "metadata": {},
   "outputs": [
    {
     "data": {
      "text/plain": [
       "Index(['Transaction date', 'House Age',\n",
       "       'Distance from nearest Metro station (km)',\n",
       "       'Number of convenience stores', 'latitude', 'longitude',\n",
       "       'Number of bedrooms', 'House size (sqft)', 'House price of unit area'],\n",
       "      dtype='object')"
      ]
     },
     "execution_count": 5,
     "metadata": {},
     "output_type": "execute_result"
    }
   ],
   "source": [
    "df.columns"
   ]
  },
  {
   "cell_type": "code",
   "execution_count": null,
   "id": "764d1406",
   "metadata": {},
   "outputs": [],
   "source": []
  },
  {
   "cell_type": "code",
   "execution_count": 6,
   "id": "be48eea7",
   "metadata": {},
   "outputs": [],
   "source": [
    "df=df.rename(columns={'Transaction date':'transaction_date','House Age':'house_age','Distance from nearest Metro station (km)':'distance_kms_metro','Number of convenience stores':'convenience_stores','latitude':'latitude','longitude':'longitude','Number of bedrooms':'bedrooms','House size (sqft)':'house_size','House price of unit area'\n",
    ":'house_price_per_unit'})"
   ]
  },
  {
   "cell_type": "code",
   "execution_count": 7,
   "id": "a7cac47e",
   "metadata": {},
   "outputs": [
    {
     "data": {
      "text/plain": [
       "Index(['transaction_date', 'house_age', 'distance_kms_metro',\n",
       "       'convenience_stores', 'latitude', 'longitude', 'bedrooms', 'house_size',\n",
       "       'house_price_per_unit'],\n",
       "      dtype='object')"
      ]
     },
     "execution_count": 7,
     "metadata": {},
     "output_type": "execute_result"
    }
   ],
   "source": [
    "df.columns"
   ]
  },
  {
   "cell_type": "code",
   "execution_count": 8,
   "id": "86814ea8",
   "metadata": {},
   "outputs": [
    {
     "data": {
      "text/html": [
       "<div>\n",
       "<style scoped>\n",
       "    .dataframe tbody tr th:only-of-type {\n",
       "        vertical-align: middle;\n",
       "    }\n",
       "\n",
       "    .dataframe tbody tr th {\n",
       "        vertical-align: top;\n",
       "    }\n",
       "\n",
       "    .dataframe thead th {\n",
       "        text-align: right;\n",
       "    }\n",
       "</style>\n",
       "<table border=\"1\" class=\"dataframe\">\n",
       "  <thead>\n",
       "    <tr style=\"text-align: right;\">\n",
       "      <th></th>\n",
       "      <th>transaction_date</th>\n",
       "      <th>house_age</th>\n",
       "      <th>distance_kms_metro</th>\n",
       "      <th>convenience_stores</th>\n",
       "      <th>latitude</th>\n",
       "      <th>longitude</th>\n",
       "      <th>bedrooms</th>\n",
       "      <th>house_size</th>\n",
       "      <th>house_price_per_unit</th>\n",
       "    </tr>\n",
       "  </thead>\n",
       "  <tbody>\n",
       "    <tr>\n",
       "      <th>0</th>\n",
       "      <td>2012.916667</td>\n",
       "      <td>32.0</td>\n",
       "      <td>84.87882</td>\n",
       "      <td>10</td>\n",
       "      <td>24.98298</td>\n",
       "      <td>121.54024</td>\n",
       "      <td>1</td>\n",
       "      <td>575</td>\n",
       "      <td>37.9</td>\n",
       "    </tr>\n",
       "    <tr>\n",
       "      <th>1</th>\n",
       "      <td>2012.916667</td>\n",
       "      <td>19.5</td>\n",
       "      <td>306.59470</td>\n",
       "      <td>9</td>\n",
       "      <td>24.98034</td>\n",
       "      <td>121.53951</td>\n",
       "      <td>2</td>\n",
       "      <td>1240</td>\n",
       "      <td>42.2</td>\n",
       "    </tr>\n",
       "    <tr>\n",
       "      <th>2</th>\n",
       "      <td>2013.583333</td>\n",
       "      <td>13.3</td>\n",
       "      <td>561.98450</td>\n",
       "      <td>5</td>\n",
       "      <td>24.98746</td>\n",
       "      <td>121.54391</td>\n",
       "      <td>3</td>\n",
       "      <td>1060</td>\n",
       "      <td>47.3</td>\n",
       "    </tr>\n",
       "    <tr>\n",
       "      <th>3</th>\n",
       "      <td>2013.500000</td>\n",
       "      <td>13.3</td>\n",
       "      <td>561.98450</td>\n",
       "      <td>5</td>\n",
       "      <td>24.98746</td>\n",
       "      <td>121.54391</td>\n",
       "      <td>2</td>\n",
       "      <td>875</td>\n",
       "      <td>54.8</td>\n",
       "    </tr>\n",
       "    <tr>\n",
       "      <th>4</th>\n",
       "      <td>2012.833333</td>\n",
       "      <td>5.0</td>\n",
       "      <td>390.56840</td>\n",
       "      <td>5</td>\n",
       "      <td>24.97937</td>\n",
       "      <td>121.54245</td>\n",
       "      <td>1</td>\n",
       "      <td>491</td>\n",
       "      <td>43.1</td>\n",
       "    </tr>\n",
       "    <tr>\n",
       "      <th>...</th>\n",
       "      <td>...</td>\n",
       "      <td>...</td>\n",
       "      <td>...</td>\n",
       "      <td>...</td>\n",
       "      <td>...</td>\n",
       "      <td>...</td>\n",
       "      <td>...</td>\n",
       "      <td>...</td>\n",
       "      <td>...</td>\n",
       "    </tr>\n",
       "    <tr>\n",
       "      <th>409</th>\n",
       "      <td>2013.000000</td>\n",
       "      <td>13.7</td>\n",
       "      <td>4082.01500</td>\n",
       "      <td>0</td>\n",
       "      <td>24.94155</td>\n",
       "      <td>121.50381</td>\n",
       "      <td>3</td>\n",
       "      <td>803</td>\n",
       "      <td>15.4</td>\n",
       "    </tr>\n",
       "    <tr>\n",
       "      <th>410</th>\n",
       "      <td>2012.666667</td>\n",
       "      <td>5.6</td>\n",
       "      <td>90.45606</td>\n",
       "      <td>9</td>\n",
       "      <td>24.97433</td>\n",
       "      <td>121.54310</td>\n",
       "      <td>2</td>\n",
       "      <td>1278</td>\n",
       "      <td>50.0</td>\n",
       "    </tr>\n",
       "    <tr>\n",
       "      <th>411</th>\n",
       "      <td>2013.250000</td>\n",
       "      <td>18.8</td>\n",
       "      <td>390.96960</td>\n",
       "      <td>7</td>\n",
       "      <td>24.97923</td>\n",
       "      <td>121.53986</td>\n",
       "      <td>1</td>\n",
       "      <td>503</td>\n",
       "      <td>40.6</td>\n",
       "    </tr>\n",
       "    <tr>\n",
       "      <th>412</th>\n",
       "      <td>2013.000000</td>\n",
       "      <td>8.1</td>\n",
       "      <td>104.81010</td>\n",
       "      <td>5</td>\n",
       "      <td>24.96674</td>\n",
       "      <td>121.54067</td>\n",
       "      <td>1</td>\n",
       "      <td>597</td>\n",
       "      <td>52.5</td>\n",
       "    </tr>\n",
       "    <tr>\n",
       "      <th>413</th>\n",
       "      <td>2013.500000</td>\n",
       "      <td>6.5</td>\n",
       "      <td>90.45606</td>\n",
       "      <td>9</td>\n",
       "      <td>24.97433</td>\n",
       "      <td>121.54310</td>\n",
       "      <td>2</td>\n",
       "      <td>1097</td>\n",
       "      <td>63.9</td>\n",
       "    </tr>\n",
       "  </tbody>\n",
       "</table>\n",
       "<p>414 rows × 9 columns</p>\n",
       "</div>"
      ],
      "text/plain": [
       "     transaction_date  house_age  distance_kms_metro  convenience_stores  \\\n",
       "0         2012.916667       32.0            84.87882                  10   \n",
       "1         2012.916667       19.5           306.59470                   9   \n",
       "2         2013.583333       13.3           561.98450                   5   \n",
       "3         2013.500000       13.3           561.98450                   5   \n",
       "4         2012.833333        5.0           390.56840                   5   \n",
       "..                ...        ...                 ...                 ...   \n",
       "409       2013.000000       13.7          4082.01500                   0   \n",
       "410       2012.666667        5.6            90.45606                   9   \n",
       "411       2013.250000       18.8           390.96960                   7   \n",
       "412       2013.000000        8.1           104.81010                   5   \n",
       "413       2013.500000        6.5            90.45606                   9   \n",
       "\n",
       "     latitude  longitude  bedrooms  house_size  house_price_per_unit  \n",
       "0    24.98298  121.54024         1         575                  37.9  \n",
       "1    24.98034  121.53951         2        1240                  42.2  \n",
       "2    24.98746  121.54391         3        1060                  47.3  \n",
       "3    24.98746  121.54391         2         875                  54.8  \n",
       "4    24.97937  121.54245         1         491                  43.1  \n",
       "..        ...        ...       ...         ...                   ...  \n",
       "409  24.94155  121.50381         3         803                  15.4  \n",
       "410  24.97433  121.54310         2        1278                  50.0  \n",
       "411  24.97923  121.53986         1         503                  40.6  \n",
       "412  24.96674  121.54067         1         597                  52.5  \n",
       "413  24.97433  121.54310         2        1097                  63.9  \n",
       "\n",
       "[414 rows x 9 columns]"
      ]
     },
     "execution_count": 8,
     "metadata": {},
     "output_type": "execute_result"
    }
   ],
   "source": [
    "df"
   ]
  },
  {
   "cell_type": "code",
   "execution_count": 9,
   "id": "2b59e759",
   "metadata": {},
   "outputs": [],
   "source": [
    "df=df.rename(columns={'Transaction date':'transaction_date','House Age':'house_age','Distance from nearest Metro station (km)':'distance_kms_metro','Number of convenience stores':'convenience_stores','latiude':'latitude','longitude':'longitude','Number of bedrooms':'bedrooms','House size (sqft)':'house_size','House price of unit area'\n",
    ":'house_price_per_unit'})"
   ]
  },
  {
   "cell_type": "code",
   "execution_count": 10,
   "id": "3df81aca",
   "metadata": {},
   "outputs": [
    {
     "data": {
      "text/plain": [
       "Index(['transaction_date', 'house_age', 'distance_kms_metro',\n",
       "       'convenience_stores', 'latitude', 'longitude', 'bedrooms', 'house_size',\n",
       "       'house_price_per_unit'],\n",
       "      dtype='object')"
      ]
     },
     "execution_count": 10,
     "metadata": {},
     "output_type": "execute_result"
    }
   ],
   "source": [
    "df.columns"
   ]
  },
  {
   "cell_type": "code",
   "execution_count": 11,
   "id": "2a592c56",
   "metadata": {},
   "outputs": [],
   "source": [
    "df['transaction_date']=pd.to_datetime(df['transaction_date'])"
   ]
  },
  {
   "cell_type": "code",
   "execution_count": 12,
   "id": "ba51b532",
   "metadata": {},
   "outputs": [
    {
     "data": {
      "text/plain": [
       "transaction_date        datetime64[ns]\n",
       "house_age                      float64\n",
       "distance_kms_metro             float64\n",
       "convenience_stores               int64\n",
       "latitude                       float64\n",
       "longitude                      float64\n",
       "bedrooms                         int64\n",
       "house_size                       int64\n",
       "house_price_per_unit           float64\n",
       "dtype: object"
      ]
     },
     "execution_count": 12,
     "metadata": {},
     "output_type": "execute_result"
    }
   ],
   "source": [
    "df.dtypes"
   ]
  },
  {
   "cell_type": "code",
   "execution_count": 13,
   "id": "5f837d44",
   "metadata": {},
   "outputs": [
    {
     "data": {
      "text/html": [
       "<div>\n",
       "<style scoped>\n",
       "    .dataframe tbody tr th:only-of-type {\n",
       "        vertical-align: middle;\n",
       "    }\n",
       "\n",
       "    .dataframe tbody tr th {\n",
       "        vertical-align: top;\n",
       "    }\n",
       "\n",
       "    .dataframe thead th {\n",
       "        text-align: right;\n",
       "    }\n",
       "</style>\n",
       "<table border=\"1\" class=\"dataframe\">\n",
       "  <thead>\n",
       "    <tr style=\"text-align: right;\">\n",
       "      <th></th>\n",
       "      <th>transaction_date</th>\n",
       "      <th>house_age</th>\n",
       "      <th>distance_kms_metro</th>\n",
       "      <th>convenience_stores</th>\n",
       "      <th>latitude</th>\n",
       "      <th>longitude</th>\n",
       "      <th>bedrooms</th>\n",
       "      <th>house_size</th>\n",
       "      <th>house_price_per_unit</th>\n",
       "    </tr>\n",
       "  </thead>\n",
       "  <tbody>\n",
       "    <tr>\n",
       "      <th>0</th>\n",
       "      <td>1970-01-01 00:00:00.000002012</td>\n",
       "      <td>32.0</td>\n",
       "      <td>84.87882</td>\n",
       "      <td>10</td>\n",
       "      <td>24.98298</td>\n",
       "      <td>121.54024</td>\n",
       "      <td>1</td>\n",
       "      <td>575</td>\n",
       "      <td>37.9</td>\n",
       "    </tr>\n",
       "    <tr>\n",
       "      <th>1</th>\n",
       "      <td>1970-01-01 00:00:00.000002012</td>\n",
       "      <td>19.5</td>\n",
       "      <td>306.59470</td>\n",
       "      <td>9</td>\n",
       "      <td>24.98034</td>\n",
       "      <td>121.53951</td>\n",
       "      <td>2</td>\n",
       "      <td>1240</td>\n",
       "      <td>42.2</td>\n",
       "    </tr>\n",
       "    <tr>\n",
       "      <th>2</th>\n",
       "      <td>1970-01-01 00:00:00.000002013</td>\n",
       "      <td>13.3</td>\n",
       "      <td>561.98450</td>\n",
       "      <td>5</td>\n",
       "      <td>24.98746</td>\n",
       "      <td>121.54391</td>\n",
       "      <td>3</td>\n",
       "      <td>1060</td>\n",
       "      <td>47.3</td>\n",
       "    </tr>\n",
       "    <tr>\n",
       "      <th>3</th>\n",
       "      <td>1970-01-01 00:00:00.000002013</td>\n",
       "      <td>13.3</td>\n",
       "      <td>561.98450</td>\n",
       "      <td>5</td>\n",
       "      <td>24.98746</td>\n",
       "      <td>121.54391</td>\n",
       "      <td>2</td>\n",
       "      <td>875</td>\n",
       "      <td>54.8</td>\n",
       "    </tr>\n",
       "    <tr>\n",
       "      <th>4</th>\n",
       "      <td>1970-01-01 00:00:00.000002012</td>\n",
       "      <td>5.0</td>\n",
       "      <td>390.56840</td>\n",
       "      <td>5</td>\n",
       "      <td>24.97937</td>\n",
       "      <td>121.54245</td>\n",
       "      <td>1</td>\n",
       "      <td>491</td>\n",
       "      <td>43.1</td>\n",
       "    </tr>\n",
       "    <tr>\n",
       "      <th>...</th>\n",
       "      <td>...</td>\n",
       "      <td>...</td>\n",
       "      <td>...</td>\n",
       "      <td>...</td>\n",
       "      <td>...</td>\n",
       "      <td>...</td>\n",
       "      <td>...</td>\n",
       "      <td>...</td>\n",
       "      <td>...</td>\n",
       "    </tr>\n",
       "    <tr>\n",
       "      <th>409</th>\n",
       "      <td>1970-01-01 00:00:00.000002013</td>\n",
       "      <td>13.7</td>\n",
       "      <td>4082.01500</td>\n",
       "      <td>0</td>\n",
       "      <td>24.94155</td>\n",
       "      <td>121.50381</td>\n",
       "      <td>3</td>\n",
       "      <td>803</td>\n",
       "      <td>15.4</td>\n",
       "    </tr>\n",
       "    <tr>\n",
       "      <th>410</th>\n",
       "      <td>1970-01-01 00:00:00.000002012</td>\n",
       "      <td>5.6</td>\n",
       "      <td>90.45606</td>\n",
       "      <td>9</td>\n",
       "      <td>24.97433</td>\n",
       "      <td>121.54310</td>\n",
       "      <td>2</td>\n",
       "      <td>1278</td>\n",
       "      <td>50.0</td>\n",
       "    </tr>\n",
       "    <tr>\n",
       "      <th>411</th>\n",
       "      <td>1970-01-01 00:00:00.000002013</td>\n",
       "      <td>18.8</td>\n",
       "      <td>390.96960</td>\n",
       "      <td>7</td>\n",
       "      <td>24.97923</td>\n",
       "      <td>121.53986</td>\n",
       "      <td>1</td>\n",
       "      <td>503</td>\n",
       "      <td>40.6</td>\n",
       "    </tr>\n",
       "    <tr>\n",
       "      <th>412</th>\n",
       "      <td>1970-01-01 00:00:00.000002013</td>\n",
       "      <td>8.1</td>\n",
       "      <td>104.81010</td>\n",
       "      <td>5</td>\n",
       "      <td>24.96674</td>\n",
       "      <td>121.54067</td>\n",
       "      <td>1</td>\n",
       "      <td>597</td>\n",
       "      <td>52.5</td>\n",
       "    </tr>\n",
       "    <tr>\n",
       "      <th>413</th>\n",
       "      <td>1970-01-01 00:00:00.000002013</td>\n",
       "      <td>6.5</td>\n",
       "      <td>90.45606</td>\n",
       "      <td>9</td>\n",
       "      <td>24.97433</td>\n",
       "      <td>121.54310</td>\n",
       "      <td>2</td>\n",
       "      <td>1097</td>\n",
       "      <td>63.9</td>\n",
       "    </tr>\n",
       "  </tbody>\n",
       "</table>\n",
       "<p>414 rows × 9 columns</p>\n",
       "</div>"
      ],
      "text/plain": [
       "                 transaction_date  house_age  distance_kms_metro  \\\n",
       "0   1970-01-01 00:00:00.000002012       32.0            84.87882   \n",
       "1   1970-01-01 00:00:00.000002012       19.5           306.59470   \n",
       "2   1970-01-01 00:00:00.000002013       13.3           561.98450   \n",
       "3   1970-01-01 00:00:00.000002013       13.3           561.98450   \n",
       "4   1970-01-01 00:00:00.000002012        5.0           390.56840   \n",
       "..                            ...        ...                 ...   \n",
       "409 1970-01-01 00:00:00.000002013       13.7          4082.01500   \n",
       "410 1970-01-01 00:00:00.000002012        5.6            90.45606   \n",
       "411 1970-01-01 00:00:00.000002013       18.8           390.96960   \n",
       "412 1970-01-01 00:00:00.000002013        8.1           104.81010   \n",
       "413 1970-01-01 00:00:00.000002013        6.5            90.45606   \n",
       "\n",
       "     convenience_stores  latitude  longitude  bedrooms  house_size  \\\n",
       "0                    10  24.98298  121.54024         1         575   \n",
       "1                     9  24.98034  121.53951         2        1240   \n",
       "2                     5  24.98746  121.54391         3        1060   \n",
       "3                     5  24.98746  121.54391         2         875   \n",
       "4                     5  24.97937  121.54245         1         491   \n",
       "..                  ...       ...        ...       ...         ...   \n",
       "409                   0  24.94155  121.50381         3         803   \n",
       "410                   9  24.97433  121.54310         2        1278   \n",
       "411                   7  24.97923  121.53986         1         503   \n",
       "412                   5  24.96674  121.54067         1         597   \n",
       "413                   9  24.97433  121.54310         2        1097   \n",
       "\n",
       "     house_price_per_unit  \n",
       "0                    37.9  \n",
       "1                    42.2  \n",
       "2                    47.3  \n",
       "3                    54.8  \n",
       "4                    43.1  \n",
       "..                    ...  \n",
       "409                  15.4  \n",
       "410                  50.0  \n",
       "411                  40.6  \n",
       "412                  52.5  \n",
       "413                  63.9  \n",
       "\n",
       "[414 rows x 9 columns]"
      ]
     },
     "execution_count": 13,
     "metadata": {},
     "output_type": "execute_result"
    }
   ],
   "source": [
    "df"
   ]
  },
  {
   "cell_type": "code",
   "execution_count": 14,
   "id": "0dfd59c9",
   "metadata": {},
   "outputs": [
    {
     "data": {
      "text/html": [
       "<div>\n",
       "<style scoped>\n",
       "    .dataframe tbody tr th:only-of-type {\n",
       "        vertical-align: middle;\n",
       "    }\n",
       "\n",
       "    .dataframe tbody tr th {\n",
       "        vertical-align: top;\n",
       "    }\n",
       "\n",
       "    .dataframe thead th {\n",
       "        text-align: right;\n",
       "    }\n",
       "</style>\n",
       "<table border=\"1\" class=\"dataframe\">\n",
       "  <thead>\n",
       "    <tr style=\"text-align: right;\">\n",
       "      <th></th>\n",
       "      <th>house_age</th>\n",
       "      <th>distance_kms_metro</th>\n",
       "      <th>convenience_stores</th>\n",
       "      <th>latitude</th>\n",
       "      <th>longitude</th>\n",
       "      <th>bedrooms</th>\n",
       "      <th>house_size</th>\n",
       "      <th>house_price_per_unit</th>\n",
       "    </tr>\n",
       "  </thead>\n",
       "  <tbody>\n",
       "    <tr>\n",
       "      <th>house_age</th>\n",
       "      <td>1.000000</td>\n",
       "      <td>0.025622</td>\n",
       "      <td>0.049593</td>\n",
       "      <td>0.054420</td>\n",
       "      <td>-0.048520</td>\n",
       "      <td>-0.008756</td>\n",
       "      <td>-0.060361</td>\n",
       "      <td>-0.210567</td>\n",
       "    </tr>\n",
       "    <tr>\n",
       "      <th>distance_kms_metro</th>\n",
       "      <td>0.025622</td>\n",
       "      <td>1.000000</td>\n",
       "      <td>-0.602519</td>\n",
       "      <td>-0.591067</td>\n",
       "      <td>-0.806317</td>\n",
       "      <td>-0.046856</td>\n",
       "      <td>0.001795</td>\n",
       "      <td>-0.673613</td>\n",
       "    </tr>\n",
       "    <tr>\n",
       "      <th>convenience_stores</th>\n",
       "      <td>0.049593</td>\n",
       "      <td>-0.602519</td>\n",
       "      <td>1.000000</td>\n",
       "      <td>0.444143</td>\n",
       "      <td>0.449099</td>\n",
       "      <td>0.043638</td>\n",
       "      <td>0.033286</td>\n",
       "      <td>0.571005</td>\n",
       "    </tr>\n",
       "    <tr>\n",
       "      <th>latitude</th>\n",
       "      <td>0.054420</td>\n",
       "      <td>-0.591067</td>\n",
       "      <td>0.444143</td>\n",
       "      <td>1.000000</td>\n",
       "      <td>0.412924</td>\n",
       "      <td>0.043921</td>\n",
       "      <td>0.031696</td>\n",
       "      <td>0.546307</td>\n",
       "    </tr>\n",
       "    <tr>\n",
       "      <th>longitude</th>\n",
       "      <td>-0.048520</td>\n",
       "      <td>-0.806317</td>\n",
       "      <td>0.449099</td>\n",
       "      <td>0.412924</td>\n",
       "      <td>1.000000</td>\n",
       "      <td>0.041680</td>\n",
       "      <td>0.009322</td>\n",
       "      <td>0.523287</td>\n",
       "    </tr>\n",
       "    <tr>\n",
       "      <th>bedrooms</th>\n",
       "      <td>-0.008756</td>\n",
       "      <td>-0.046856</td>\n",
       "      <td>0.043638</td>\n",
       "      <td>0.043921</td>\n",
       "      <td>0.041680</td>\n",
       "      <td>1.000000</td>\n",
       "      <td>0.752276</td>\n",
       "      <td>0.050265</td>\n",
       "    </tr>\n",
       "    <tr>\n",
       "      <th>house_size</th>\n",
       "      <td>-0.060361</td>\n",
       "      <td>0.001795</td>\n",
       "      <td>0.033286</td>\n",
       "      <td>0.031696</td>\n",
       "      <td>0.009322</td>\n",
       "      <td>0.752276</td>\n",
       "      <td>1.000000</td>\n",
       "      <td>0.046489</td>\n",
       "    </tr>\n",
       "    <tr>\n",
       "      <th>house_price_per_unit</th>\n",
       "      <td>-0.210567</td>\n",
       "      <td>-0.673613</td>\n",
       "      <td>0.571005</td>\n",
       "      <td>0.546307</td>\n",
       "      <td>0.523287</td>\n",
       "      <td>0.050265</td>\n",
       "      <td>0.046489</td>\n",
       "      <td>1.000000</td>\n",
       "    </tr>\n",
       "  </tbody>\n",
       "</table>\n",
       "</div>"
      ],
      "text/plain": [
       "                      house_age  distance_kms_metro  convenience_stores  \\\n",
       "house_age              1.000000            0.025622            0.049593   \n",
       "distance_kms_metro     0.025622            1.000000           -0.602519   \n",
       "convenience_stores     0.049593           -0.602519            1.000000   \n",
       "latitude               0.054420           -0.591067            0.444143   \n",
       "longitude             -0.048520           -0.806317            0.449099   \n",
       "bedrooms              -0.008756           -0.046856            0.043638   \n",
       "house_size            -0.060361            0.001795            0.033286   \n",
       "house_price_per_unit  -0.210567           -0.673613            0.571005   \n",
       "\n",
       "                      latitude  longitude  bedrooms  house_size  \\\n",
       "house_age             0.054420  -0.048520 -0.008756   -0.060361   \n",
       "distance_kms_metro   -0.591067  -0.806317 -0.046856    0.001795   \n",
       "convenience_stores    0.444143   0.449099  0.043638    0.033286   \n",
       "latitude              1.000000   0.412924  0.043921    0.031696   \n",
       "longitude             0.412924   1.000000  0.041680    0.009322   \n",
       "bedrooms              0.043921   0.041680  1.000000    0.752276   \n",
       "house_size            0.031696   0.009322  0.752276    1.000000   \n",
       "house_price_per_unit  0.546307   0.523287  0.050265    0.046489   \n",
       "\n",
       "                      house_price_per_unit  \n",
       "house_age                        -0.210567  \n",
       "distance_kms_metro               -0.673613  \n",
       "convenience_stores                0.571005  \n",
       "latitude                          0.546307  \n",
       "longitude                         0.523287  \n",
       "bedrooms                          0.050265  \n",
       "house_size                        0.046489  \n",
       "house_price_per_unit              1.000000  "
      ]
     },
     "execution_count": 14,
     "metadata": {},
     "output_type": "execute_result"
    }
   ],
   "source": [
    "df.corr()"
   ]
  },
  {
   "cell_type": "code",
   "execution_count": null,
   "id": "0cca20eb",
   "metadata": {},
   "outputs": [],
   "source": []
  },
  {
   "cell_type": "code",
   "execution_count": 15,
   "id": "bf6df82c",
   "metadata": {},
   "outputs": [
    {
     "data": {
      "text/html": [
       "<div>\n",
       "<style scoped>\n",
       "    .dataframe tbody tr th:only-of-type {\n",
       "        vertical-align: middle;\n",
       "    }\n",
       "\n",
       "    .dataframe tbody tr th {\n",
       "        vertical-align: top;\n",
       "    }\n",
       "\n",
       "    .dataframe thead th {\n",
       "        text-align: right;\n",
       "    }\n",
       "</style>\n",
       "<table border=\"1\" class=\"dataframe\">\n",
       "  <thead>\n",
       "    <tr style=\"text-align: right;\">\n",
       "      <th></th>\n",
       "      <th>transaction_date</th>\n",
       "      <th>house_age</th>\n",
       "      <th>distance_kms_metro</th>\n",
       "      <th>convenience_stores</th>\n",
       "      <th>latitude</th>\n",
       "      <th>longitude</th>\n",
       "      <th>bedrooms</th>\n",
       "      <th>house_size</th>\n",
       "      <th>house_price_per_unit</th>\n",
       "    </tr>\n",
       "  </thead>\n",
       "  <tbody>\n",
       "    <tr>\n",
       "      <th>0</th>\n",
       "      <td>1970-01-01 00:00:00.000002012</td>\n",
       "      <td>32.0</td>\n",
       "      <td>84.87882</td>\n",
       "      <td>10</td>\n",
       "      <td>24.98298</td>\n",
       "      <td>121.54024</td>\n",
       "      <td>1</td>\n",
       "      <td>575</td>\n",
       "      <td>37.9</td>\n",
       "    </tr>\n",
       "    <tr>\n",
       "      <th>1</th>\n",
       "      <td>1970-01-01 00:00:00.000002012</td>\n",
       "      <td>19.5</td>\n",
       "      <td>306.59470</td>\n",
       "      <td>9</td>\n",
       "      <td>24.98034</td>\n",
       "      <td>121.53951</td>\n",
       "      <td>2</td>\n",
       "      <td>1240</td>\n",
       "      <td>42.2</td>\n",
       "    </tr>\n",
       "    <tr>\n",
       "      <th>2</th>\n",
       "      <td>1970-01-01 00:00:00.000002013</td>\n",
       "      <td>13.3</td>\n",
       "      <td>561.98450</td>\n",
       "      <td>5</td>\n",
       "      <td>24.98746</td>\n",
       "      <td>121.54391</td>\n",
       "      <td>3</td>\n",
       "      <td>1060</td>\n",
       "      <td>47.3</td>\n",
       "    </tr>\n",
       "    <tr>\n",
       "      <th>3</th>\n",
       "      <td>1970-01-01 00:00:00.000002013</td>\n",
       "      <td>13.3</td>\n",
       "      <td>561.98450</td>\n",
       "      <td>5</td>\n",
       "      <td>24.98746</td>\n",
       "      <td>121.54391</td>\n",
       "      <td>2</td>\n",
       "      <td>875</td>\n",
       "      <td>54.8</td>\n",
       "    </tr>\n",
       "    <tr>\n",
       "      <th>4</th>\n",
       "      <td>1970-01-01 00:00:00.000002012</td>\n",
       "      <td>5.0</td>\n",
       "      <td>390.56840</td>\n",
       "      <td>5</td>\n",
       "      <td>24.97937</td>\n",
       "      <td>121.54245</td>\n",
       "      <td>1</td>\n",
       "      <td>491</td>\n",
       "      <td>43.1</td>\n",
       "    </tr>\n",
       "    <tr>\n",
       "      <th>...</th>\n",
       "      <td>...</td>\n",
       "      <td>...</td>\n",
       "      <td>...</td>\n",
       "      <td>...</td>\n",
       "      <td>...</td>\n",
       "      <td>...</td>\n",
       "      <td>...</td>\n",
       "      <td>...</td>\n",
       "      <td>...</td>\n",
       "    </tr>\n",
       "    <tr>\n",
       "      <th>409</th>\n",
       "      <td>1970-01-01 00:00:00.000002013</td>\n",
       "      <td>13.7</td>\n",
       "      <td>4082.01500</td>\n",
       "      <td>0</td>\n",
       "      <td>24.94155</td>\n",
       "      <td>121.50381</td>\n",
       "      <td>3</td>\n",
       "      <td>803</td>\n",
       "      <td>15.4</td>\n",
       "    </tr>\n",
       "    <tr>\n",
       "      <th>410</th>\n",
       "      <td>1970-01-01 00:00:00.000002012</td>\n",
       "      <td>5.6</td>\n",
       "      <td>90.45606</td>\n",
       "      <td>9</td>\n",
       "      <td>24.97433</td>\n",
       "      <td>121.54310</td>\n",
       "      <td>2</td>\n",
       "      <td>1278</td>\n",
       "      <td>50.0</td>\n",
       "    </tr>\n",
       "    <tr>\n",
       "      <th>411</th>\n",
       "      <td>1970-01-01 00:00:00.000002013</td>\n",
       "      <td>18.8</td>\n",
       "      <td>390.96960</td>\n",
       "      <td>7</td>\n",
       "      <td>24.97923</td>\n",
       "      <td>121.53986</td>\n",
       "      <td>1</td>\n",
       "      <td>503</td>\n",
       "      <td>40.6</td>\n",
       "    </tr>\n",
       "    <tr>\n",
       "      <th>412</th>\n",
       "      <td>1970-01-01 00:00:00.000002013</td>\n",
       "      <td>8.1</td>\n",
       "      <td>104.81010</td>\n",
       "      <td>5</td>\n",
       "      <td>24.96674</td>\n",
       "      <td>121.54067</td>\n",
       "      <td>1</td>\n",
       "      <td>597</td>\n",
       "      <td>52.5</td>\n",
       "    </tr>\n",
       "    <tr>\n",
       "      <th>413</th>\n",
       "      <td>1970-01-01 00:00:00.000002013</td>\n",
       "      <td>6.5</td>\n",
       "      <td>90.45606</td>\n",
       "      <td>9</td>\n",
       "      <td>24.97433</td>\n",
       "      <td>121.54310</td>\n",
       "      <td>2</td>\n",
       "      <td>1097</td>\n",
       "      <td>63.9</td>\n",
       "    </tr>\n",
       "  </tbody>\n",
       "</table>\n",
       "<p>414 rows × 9 columns</p>\n",
       "</div>"
      ],
      "text/plain": [
       "                 transaction_date  house_age  distance_kms_metro  \\\n",
       "0   1970-01-01 00:00:00.000002012       32.0            84.87882   \n",
       "1   1970-01-01 00:00:00.000002012       19.5           306.59470   \n",
       "2   1970-01-01 00:00:00.000002013       13.3           561.98450   \n",
       "3   1970-01-01 00:00:00.000002013       13.3           561.98450   \n",
       "4   1970-01-01 00:00:00.000002012        5.0           390.56840   \n",
       "..                            ...        ...                 ...   \n",
       "409 1970-01-01 00:00:00.000002013       13.7          4082.01500   \n",
       "410 1970-01-01 00:00:00.000002012        5.6            90.45606   \n",
       "411 1970-01-01 00:00:00.000002013       18.8           390.96960   \n",
       "412 1970-01-01 00:00:00.000002013        8.1           104.81010   \n",
       "413 1970-01-01 00:00:00.000002013        6.5            90.45606   \n",
       "\n",
       "     convenience_stores  latitude  longitude  bedrooms  house_size  \\\n",
       "0                    10  24.98298  121.54024         1         575   \n",
       "1                     9  24.98034  121.53951         2        1240   \n",
       "2                     5  24.98746  121.54391         3        1060   \n",
       "3                     5  24.98746  121.54391         2         875   \n",
       "4                     5  24.97937  121.54245         1         491   \n",
       "..                  ...       ...        ...       ...         ...   \n",
       "409                   0  24.94155  121.50381         3         803   \n",
       "410                   9  24.97433  121.54310         2        1278   \n",
       "411                   7  24.97923  121.53986         1         503   \n",
       "412                   5  24.96674  121.54067         1         597   \n",
       "413                   9  24.97433  121.54310         2        1097   \n",
       "\n",
       "     house_price_per_unit  \n",
       "0                    37.9  \n",
       "1                    42.2  \n",
       "2                    47.3  \n",
       "3                    54.8  \n",
       "4                    43.1  \n",
       "..                    ...  \n",
       "409                  15.4  \n",
       "410                  50.0  \n",
       "411                  40.6  \n",
       "412                  52.5  \n",
       "413                  63.9  \n",
       "\n",
       "[414 rows x 9 columns]"
      ]
     },
     "execution_count": 15,
     "metadata": {},
     "output_type": "execute_result"
    }
   ],
   "source": [
    "df"
   ]
  },
  {
   "cell_type": "code",
   "execution_count": 16,
   "id": "88e80cad",
   "metadata": {},
   "outputs": [
    {
     "data": {
      "text/plain": [
       "transaction_date        0\n",
       "house_age               0\n",
       "distance_kms_metro      0\n",
       "convenience_stores      0\n",
       "latitude                0\n",
       "longitude               0\n",
       "bedrooms                0\n",
       "house_size              0\n",
       "house_price_per_unit    0\n",
       "dtype: int64"
      ]
     },
     "execution_count": 16,
     "metadata": {},
     "output_type": "execute_result"
    }
   ],
   "source": [
    "df.isnull().sum()"
   ]
  },
  {
   "cell_type": "markdown",
   "id": "3d645be2",
   "metadata": {},
   "source": [
    "# Analyzing the Independent Variable"
   ]
  },
  {
   "cell_type": "code",
   "execution_count": 17,
   "id": "ac00895c",
   "metadata": {},
   "outputs": [
    {
     "data": {
      "text/plain": [
       "count    414.000000\n",
       "mean      37.980193\n",
       "std       13.606488\n",
       "min        7.600000\n",
       "25%       27.700000\n",
       "50%       38.450000\n",
       "75%       46.600000\n",
       "max      117.500000\n",
       "Name: house_price_per_unit, dtype: float64"
      ]
     },
     "execution_count": 17,
     "metadata": {},
     "output_type": "execute_result"
    }
   ],
   "source": [
    "df['house_price_per_unit'].describe()"
   ]
  },
  {
   "cell_type": "code",
   "execution_count": 18,
   "id": "87dcb7b8",
   "metadata": {},
   "outputs": [
    {
     "data": {
      "text/plain": [
       "Text(0.5, 0, ' House Price Per Unit')"
      ]
     },
     "execution_count": 18,
     "metadata": {},
     "output_type": "execute_result"
    },
    {
     "data": {
      "image/png": "[encoded data removed]",
      "text/plain": [
       "<Figure size 720x480 with 1 Axes>"
      ]
     },
     "metadata": {
      "needs_background": "light"
     },
     "output_type": "display_data"
    }
   ],
   "source": [
    "plt.figure(dpi=120)\n",
    "plt.boxplot(df['house_price_per_unit'])\n",
    "plt.xlabel(' House Price Per Unit')"
   ]
  },
  {
   "cell_type": "code",
   "execution_count": 19,
   "id": "936c3e75",
   "metadata": {},
   "outputs": [
    {
     "data": {
      "text/plain": [
       "3"
      ]
     },
     "execution_count": 19,
     "metadata": {},
     "output_type": "execute_result"
    }
   ],
   "source": [
    "def outliers(var,upper_limit,lower_limit):\n",
    "    outliers_list=[]\n",
    "    for i in var:\n",
    "        if  ( i > upper_limit):\n",
    "            outliers_list.append(i)\n",
    "        elif(i < lower_limit):\n",
    "            outliers_list.append(i)\n",
    "    return outliers_list   \n",
    "Q1_house_price=df['house_price_per_unit'].quantile(.25)\n",
    "Q3_house_price=df['house_price_per_unit'].quantile(.75)\n",
    "IQR_house_price=Q3_house_price-Q1_house_price\n",
    "upper_limit=Q3_house_price + 1.5*IQR_house_price\n",
    "lower_limit=df['house_price_per_unit'].min()\n",
    "house_price=df['house_price_per_unit']\n",
    "out=outliers(house_price,upper_limit,lower_limit)\n",
    "len(out)\n",
    "    \n",
    "        "
   ]
  },
  {
   "cell_type": "code",
   "execution_count": 20,
   "id": "fa7b9d38",
   "metadata": {},
   "outputs": [
    {
     "data": {
      "text/plain": [
       "[78.3, 117.5, 78.0]"
      ]
     },
     "execution_count": 20,
     "metadata": {},
     "output_type": "execute_result"
    }
   ],
   "source": [
    "out"
   ]
  },
  {
   "cell_type": "code",
   "execution_count": 21,
   "id": "17b98846",
   "metadata": {},
   "outputs": [
    {
     "data": {
      "text/plain": [
       "74.95"
      ]
     },
     "execution_count": 21,
     "metadata": {},
     "output_type": "execute_result"
    }
   ],
   "source": [
    "upper_limit"
   ]
  },
  {
   "cell_type": "code",
   "execution_count": 22,
   "id": "31d4b9bd",
   "metadata": {},
   "outputs": [
    {
     "data": {
      "text/plain": [
       "7.6"
      ]
     },
     "execution_count": 22,
     "metadata": {},
     "output_type": "execute_result"
    }
   ],
   "source": [
    "lower_limit"
   ]
  },
  {
   "cell_type": "markdown",
   "id": "0b49d57b",
   "metadata": {},
   "source": [
    "# Removing the outliers in the list as these are in the target variable"
   ]
  },
  {
   "cell_type": "code",
   "execution_count": 23,
   "id": "4fd8c67f",
   "metadata": {},
   "outputs": [],
   "source": [
    "df=df[df['house_price_per_unit'].isin(out)==False]"
   ]
  },
  {
   "cell_type": "code",
   "execution_count": 24,
   "id": "0da11ae0",
   "metadata": {},
   "outputs": [],
   "source": [
    "df.reset_index(drop=True,inplace=True)"
   ]
  },
  {
   "cell_type": "code",
   "execution_count": 25,
   "id": "2e21e206",
   "metadata": {},
   "outputs": [
    {
     "data": {
      "text/html": [
       "<div>\n",
       "<style scoped>\n",
       "    .dataframe tbody tr th:only-of-type {\n",
       "        vertical-align: middle;\n",
       "    }\n",
       "\n",
       "    .dataframe tbody tr th {\n",
       "        vertical-align: top;\n",
       "    }\n",
       "\n",
       "    .dataframe thead th {\n",
       "        text-align: right;\n",
       "    }\n",
       "</style>\n",
       "<table border=\"1\" class=\"dataframe\">\n",
       "  <thead>\n",
       "    <tr style=\"text-align: right;\">\n",
       "      <th></th>\n",
       "      <th>transaction_date</th>\n",
       "      <th>house_age</th>\n",
       "      <th>distance_kms_metro</th>\n",
       "      <th>convenience_stores</th>\n",
       "      <th>latitude</th>\n",
       "      <th>longitude</th>\n",
       "      <th>bedrooms</th>\n",
       "      <th>house_size</th>\n",
       "      <th>house_price_per_unit</th>\n",
       "    </tr>\n",
       "  </thead>\n",
       "  <tbody>\n",
       "    <tr>\n",
       "      <th>0</th>\n",
       "      <td>1970-01-01 00:00:00.000002012</td>\n",
       "      <td>32.0</td>\n",
       "      <td>84.87882</td>\n",
       "      <td>10</td>\n",
       "      <td>24.98298</td>\n",
       "      <td>121.54024</td>\n",
       "      <td>1</td>\n",
       "      <td>575</td>\n",
       "      <td>37.9</td>\n",
       "    </tr>\n",
       "    <tr>\n",
       "      <th>1</th>\n",
       "      <td>1970-01-01 00:00:00.000002012</td>\n",
       "      <td>19.5</td>\n",
       "      <td>306.59470</td>\n",
       "      <td>9</td>\n",
       "      <td>24.98034</td>\n",
       "      <td>121.53951</td>\n",
       "      <td>2</td>\n",
       "      <td>1240</td>\n",
       "      <td>42.2</td>\n",
       "    </tr>\n",
       "    <tr>\n",
       "      <th>2</th>\n",
       "      <td>1970-01-01 00:00:00.000002013</td>\n",
       "      <td>13.3</td>\n",
       "      <td>561.98450</td>\n",
       "      <td>5</td>\n",
       "      <td>24.98746</td>\n",
       "      <td>121.54391</td>\n",
       "      <td>3</td>\n",
       "      <td>1060</td>\n",
       "      <td>47.3</td>\n",
       "    </tr>\n",
       "    <tr>\n",
       "      <th>3</th>\n",
       "      <td>1970-01-01 00:00:00.000002013</td>\n",
       "      <td>13.3</td>\n",
       "      <td>561.98450</td>\n",
       "      <td>5</td>\n",
       "      <td>24.98746</td>\n",
       "      <td>121.54391</td>\n",
       "      <td>2</td>\n",
       "      <td>875</td>\n",
       "      <td>54.8</td>\n",
       "    </tr>\n",
       "    <tr>\n",
       "      <th>4</th>\n",
       "      <td>1970-01-01 00:00:00.000002012</td>\n",
       "      <td>5.0</td>\n",
       "      <td>390.56840</td>\n",
       "      <td>5</td>\n",
       "      <td>24.97937</td>\n",
       "      <td>121.54245</td>\n",
       "      <td>1</td>\n",
       "      <td>491</td>\n",
       "      <td>43.1</td>\n",
       "    </tr>\n",
       "    <tr>\n",
       "      <th>...</th>\n",
       "      <td>...</td>\n",
       "      <td>...</td>\n",
       "      <td>...</td>\n",
       "      <td>...</td>\n",
       "      <td>...</td>\n",
       "      <td>...</td>\n",
       "      <td>...</td>\n",
       "      <td>...</td>\n",
       "      <td>...</td>\n",
       "    </tr>\n",
       "    <tr>\n",
       "      <th>406</th>\n",
       "      <td>1970-01-01 00:00:00.000002013</td>\n",
       "      <td>13.7</td>\n",
       "      <td>4082.01500</td>\n",
       "      <td>0</td>\n",
       "      <td>24.94155</td>\n",
       "      <td>121.50381</td>\n",
       "      <td>3</td>\n",
       "      <td>803</td>\n",
       "      <td>15.4</td>\n",
       "    </tr>\n",
       "    <tr>\n",
       "      <th>407</th>\n",
       "      <td>1970-01-01 00:00:00.000002012</td>\n",
       "      <td>5.6</td>\n",
       "      <td>90.45606</td>\n",
       "      <td>9</td>\n",
       "      <td>24.97433</td>\n",
       "      <td>121.54310</td>\n",
       "      <td>2</td>\n",
       "      <td>1278</td>\n",
       "      <td>50.0</td>\n",
       "    </tr>\n",
       "    <tr>\n",
       "      <th>408</th>\n",
       "      <td>1970-01-01 00:00:00.000002013</td>\n",
       "      <td>18.8</td>\n",
       "      <td>390.96960</td>\n",
       "      <td>7</td>\n",
       "      <td>24.97923</td>\n",
       "      <td>121.53986</td>\n",
       "      <td>1</td>\n",
       "      <td>503</td>\n",
       "      <td>40.6</td>\n",
       "    </tr>\n",
       "    <tr>\n",
       "      <th>409</th>\n",
       "      <td>1970-01-01 00:00:00.000002013</td>\n",
       "      <td>8.1</td>\n",
       "      <td>104.81010</td>\n",
       "      <td>5</td>\n",
       "      <td>24.96674</td>\n",
       "      <td>121.54067</td>\n",
       "      <td>1</td>\n",
       "      <td>597</td>\n",
       "      <td>52.5</td>\n",
       "    </tr>\n",
       "    <tr>\n",
       "      <th>410</th>\n",
       "      <td>1970-01-01 00:00:00.000002013</td>\n",
       "      <td>6.5</td>\n",
       "      <td>90.45606</td>\n",
       "      <td>9</td>\n",
       "      <td>24.97433</td>\n",
       "      <td>121.54310</td>\n",
       "      <td>2</td>\n",
       "      <td>1097</td>\n",
       "      <td>63.9</td>\n",
       "    </tr>\n",
       "  </tbody>\n",
       "</table>\n",
       "<p>411 rows × 9 columns</p>\n",
       "</div>"
      ],
      "text/plain": [
       "                 transaction_date  house_age  distance_kms_metro  \\\n",
       "0   1970-01-01 00:00:00.000002012       32.0            84.87882   \n",
       "1   1970-01-01 00:00:00.000002012       19.5           306.59470   \n",
       "2   1970-01-01 00:00:00.000002013       13.3           561.98450   \n",
       "3   1970-01-01 00:00:00.000002013       13.3           561.98450   \n",
       "4   1970-01-01 00:00:00.000002012        5.0           390.56840   \n",
       "..                            ...        ...                 ...   \n",
       "406 1970-01-01 00:00:00.000002013       13.7          4082.01500   \n",
       "407 1970-01-01 00:00:00.000002012        5.6            90.45606   \n",
       "408 1970-01-01 00:00:00.000002013       18.8           390.96960   \n",
       "409 1970-01-01 00:00:00.000002013        8.1           104.81010   \n",
       "410 1970-01-01 00:00:00.000002013        6.5            90.45606   \n",
       "\n",
       "     convenience_stores  latitude  longitude  bedrooms  house_size  \\\n",
       "0                    10  24.98298  121.54024         1         575   \n",
       "1                     9  24.98034  121.53951         2        1240   \n",
       "2                     5  24.98746  121.54391         3        1060   \n",
       "3                     5  24.98746  121.54391         2         875   \n",
       "4                     5  24.97937  121.54245         1         491   \n",
       "..                  ...       ...        ...       ...         ...   \n",
       "406                   0  24.94155  121.50381         3         803   \n",
       "407                   9  24.97433  121.54310         2        1278   \n",
       "408                   7  24.97923  121.53986         1         503   \n",
       "409                   5  24.96674  121.54067         1         597   \n",
       "410                   9  24.97433  121.54310         2        1097   \n",
       "\n",
       "     house_price_per_unit  \n",
       "0                    37.9  \n",
       "1                    42.2  \n",
       "2                    47.3  \n",
       "3                    54.8  \n",
       "4                    43.1  \n",
       "..                    ...  \n",
       "406                  15.4  \n",
       "407                  50.0  \n",
       "408                  40.6  \n",
       "409                  52.5  \n",
       "410                  63.9  \n",
       "\n",
       "[411 rows x 9 columns]"
      ]
     },
     "execution_count": 25,
     "metadata": {},
     "output_type": "execute_result"
    }
   ],
   "source": [
    "df"
   ]
  },
  {
   "cell_type": "markdown",
   "id": "a5abfdcb",
   "metadata": {},
   "source": [
    "# Analysis of Independent Variable"
   ]
  },
  {
   "cell_type": "code",
   "execution_count": 26,
   "id": "e2d604e3",
   "metadata": {},
   "outputs": [
    {
     "data": {
      "text/plain": [
       "transaction_date        datetime64[ns]\n",
       "house_age                      float64\n",
       "distance_kms_metro             float64\n",
       "convenience_stores               int64\n",
       "latitude                       float64\n",
       "longitude                      float64\n",
       "bedrooms                         int64\n",
       "house_size                       int64\n",
       "house_price_per_unit           float64\n",
       "dtype: object"
      ]
     },
     "execution_count": 26,
     "metadata": {},
     "output_type": "execute_result"
    }
   ],
   "source": [
    "df.dtypes"
   ]
  },
  {
   "cell_type": "code",
   "execution_count": 27,
   "id": "2408e6a7",
   "metadata": {},
   "outputs": [
    {
     "name": "stderr",
     "output_type": "stream",
     "text": [
      "<ipython-input-27-1782e7c6eaba>:1: SettingWithCopyWarning: \n",
      "A value is trying to be set on a copy of a slice from a DataFrame.\n",
      "Try using .loc[row_indexer,col_indexer] = value instead\n",
      "\n",
      "See the caveats in the documentation: https://pandas.pydata.org/pandas-docs/stable/user_guide/indexing.html#returning-a-view-versus-a-copy\n",
      "  df['month']=df['transaction_date'].dt.month\n"
     ]
    }
   ],
   "source": [
    "df['month']=df['transaction_date'].dt.month"
   ]
  },
  {
   "cell_type": "code",
   "execution_count": 28,
   "id": "a0065b97",
   "metadata": {},
   "outputs": [
    {
     "data": {
      "text/plain": [
       "0      1\n",
       "1      1\n",
       "2      1\n",
       "3      1\n",
       "4      1\n",
       "      ..\n",
       "406    1\n",
       "407    1\n",
       "408    1\n",
       "409    1\n",
       "410    1\n",
       "Name: month, Length: 411, dtype: int64"
      ]
     },
     "execution_count": 28,
     "metadata": {},
     "output_type": "execute_result"
    }
   ],
   "source": [
    "df['month']"
   ]
  },
  {
   "cell_type": "code",
   "execution_count": 29,
   "id": "40955989",
   "metadata": {},
   "outputs": [
    {
     "name": "stderr",
     "output_type": "stream",
     "text": [
      "<ipython-input-29-d81427ffda59>:1: SettingWithCopyWarning: \n",
      "A value is trying to be set on a copy of a slice from a DataFrame.\n",
      "Try using .loc[row_indexer,col_indexer] = value instead\n",
      "\n",
      "See the caveats in the documentation: https://pandas.pydata.org/pandas-docs/stable/user_guide/indexing.html#returning-a-view-versus-a-copy\n",
      "  df['year']=df['transaction_date'].dt.year\n"
     ]
    }
   ],
   "source": [
    "df['year']=df['transaction_date'].dt.year"
   ]
  },
  {
   "cell_type": "code",
   "execution_count": 30,
   "id": "440d98c9",
   "metadata": {},
   "outputs": [
    {
     "name": "stderr",
     "output_type": "stream",
     "text": [
      "<ipython-input-30-55db61754281>:1: SettingWithCopyWarning: \n",
      "A value is trying to be set on a copy of a slice from a DataFrame.\n",
      "Try using .loc[row_indexer,col_indexer] = value instead\n",
      "\n",
      "See the caveats in the documentation: https://pandas.pydata.org/pandas-docs/stable/user_guide/indexing.html#returning-a-view-versus-a-copy\n",
      "  df['day']=df['transaction_date'].dt.day\n"
     ]
    }
   ],
   "source": [
    "df['day']=df['transaction_date'].dt.day"
   ]
  },
  {
   "cell_type": "code",
   "execution_count": 31,
   "id": "4c80a8a9",
   "metadata": {},
   "outputs": [
    {
     "data": {
      "text/html": [
       "<div>\n",
       "<style scoped>\n",
       "    .dataframe tbody tr th:only-of-type {\n",
       "        vertical-align: middle;\n",
       "    }\n",
       "\n",
       "    .dataframe tbody tr th {\n",
       "        vertical-align: top;\n",
       "    }\n",
       "\n",
       "    .dataframe thead th {\n",
       "        text-align: right;\n",
       "    }\n",
       "</style>\n",
       "<table border=\"1\" class=\"dataframe\">\n",
       "  <thead>\n",
       "    <tr style=\"text-align: right;\">\n",
       "      <th></th>\n",
       "      <th>transaction_date</th>\n",
       "      <th>house_age</th>\n",
       "      <th>distance_kms_metro</th>\n",
       "      <th>convenience_stores</th>\n",
       "      <th>latitude</th>\n",
       "      <th>longitude</th>\n",
       "      <th>bedrooms</th>\n",
       "      <th>house_size</th>\n",
       "      <th>house_price_per_unit</th>\n",
       "      <th>month</th>\n",
       "      <th>year</th>\n",
       "      <th>day</th>\n",
       "    </tr>\n",
       "  </thead>\n",
       "  <tbody>\n",
       "    <tr>\n",
       "      <th>0</th>\n",
       "      <td>1970-01-01 00:00:00.000002012</td>\n",
       "      <td>32.0</td>\n",
       "      <td>84.87882</td>\n",
       "      <td>10</td>\n",
       "      <td>24.98298</td>\n",
       "      <td>121.54024</td>\n",
       "      <td>1</td>\n",
       "      <td>575</td>\n",
       "      <td>37.9</td>\n",
       "      <td>1</td>\n",
       "      <td>1970</td>\n",
       "      <td>1</td>\n",
       "    </tr>\n",
       "    <tr>\n",
       "      <th>1</th>\n",
       "      <td>1970-01-01 00:00:00.000002012</td>\n",
       "      <td>19.5</td>\n",
       "      <td>306.59470</td>\n",
       "      <td>9</td>\n",
       "      <td>24.98034</td>\n",
       "      <td>121.53951</td>\n",
       "      <td>2</td>\n",
       "      <td>1240</td>\n",
       "      <td>42.2</td>\n",
       "      <td>1</td>\n",
       "      <td>1970</td>\n",
       "      <td>1</td>\n",
       "    </tr>\n",
       "    <tr>\n",
       "      <th>2</th>\n",
       "      <td>1970-01-01 00:00:00.000002013</td>\n",
       "      <td>13.3</td>\n",
       "      <td>561.98450</td>\n",
       "      <td>5</td>\n",
       "      <td>24.98746</td>\n",
       "      <td>121.54391</td>\n",
       "      <td>3</td>\n",
       "      <td>1060</td>\n",
       "      <td>47.3</td>\n",
       "      <td>1</td>\n",
       "      <td>1970</td>\n",
       "      <td>1</td>\n",
       "    </tr>\n",
       "    <tr>\n",
       "      <th>3</th>\n",
       "      <td>1970-01-01 00:00:00.000002013</td>\n",
       "      <td>13.3</td>\n",
       "      <td>561.98450</td>\n",
       "      <td>5</td>\n",
       "      <td>24.98746</td>\n",
       "      <td>121.54391</td>\n",
       "      <td>2</td>\n",
       "      <td>875</td>\n",
       "      <td>54.8</td>\n",
       "      <td>1</td>\n",
       "      <td>1970</td>\n",
       "      <td>1</td>\n",
       "    </tr>\n",
       "    <tr>\n",
       "      <th>4</th>\n",
       "      <td>1970-01-01 00:00:00.000002012</td>\n",
       "      <td>5.0</td>\n",
       "      <td>390.56840</td>\n",
       "      <td>5</td>\n",
       "      <td>24.97937</td>\n",
       "      <td>121.54245</td>\n",
       "      <td>1</td>\n",
       "      <td>491</td>\n",
       "      <td>43.1</td>\n",
       "      <td>1</td>\n",
       "      <td>1970</td>\n",
       "      <td>1</td>\n",
       "    </tr>\n",
       "    <tr>\n",
       "      <th>...</th>\n",
       "      <td>...</td>\n",
       "      <td>...</td>\n",
       "      <td>...</td>\n",
       "      <td>...</td>\n",
       "      <td>...</td>\n",
       "      <td>...</td>\n",
       "      <td>...</td>\n",
       "      <td>...</td>\n",
       "      <td>...</td>\n",
       "      <td>...</td>\n",
       "      <td>...</td>\n",
       "      <td>...</td>\n",
       "    </tr>\n",
       "    <tr>\n",
       "      <th>406</th>\n",
       "      <td>1970-01-01 00:00:00.000002013</td>\n",
       "      <td>13.7</td>\n",
       "      <td>4082.01500</td>\n",
       "      <td>0</td>\n",
       "      <td>24.94155</td>\n",
       "      <td>121.50381</td>\n",
       "      <td>3</td>\n",
       "      <td>803</td>\n",
       "      <td>15.4</td>\n",
       "      <td>1</td>\n",
       "      <td>1970</td>\n",
       "      <td>1</td>\n",
       "    </tr>\n",
       "    <tr>\n",
       "      <th>407</th>\n",
       "      <td>1970-01-01 00:00:00.000002012</td>\n",
       "      <td>5.6</td>\n",
       "      <td>90.45606</td>\n",
       "      <td>9</td>\n",
       "      <td>24.97433</td>\n",
       "      <td>121.54310</td>\n",
       "      <td>2</td>\n",
       "      <td>1278</td>\n",
       "      <td>50.0</td>\n",
       "      <td>1</td>\n",
       "      <td>1970</td>\n",
       "      <td>1</td>\n",
       "    </tr>\n",
       "    <tr>\n",
       "      <th>408</th>\n",
       "      <td>1970-01-01 00:00:00.000002013</td>\n",
       "      <td>18.8</td>\n",
       "      <td>390.96960</td>\n",
       "      <td>7</td>\n",
       "      <td>24.97923</td>\n",
       "      <td>121.53986</td>\n",
       "      <td>1</td>\n",
       "      <td>503</td>\n",
       "      <td>40.6</td>\n",
       "      <td>1</td>\n",
       "      <td>1970</td>\n",
       "      <td>1</td>\n",
       "    </tr>\n",
       "    <tr>\n",
       "      <th>409</th>\n",
       "      <td>1970-01-01 00:00:00.000002013</td>\n",
       "      <td>8.1</td>\n",
       "      <td>104.81010</td>\n",
       "      <td>5</td>\n",
       "      <td>24.96674</td>\n",
       "      <td>121.54067</td>\n",
       "      <td>1</td>\n",
       "      <td>597</td>\n",
       "      <td>52.5</td>\n",
       "      <td>1</td>\n",
       "      <td>1970</td>\n",
       "      <td>1</td>\n",
       "    </tr>\n",
       "    <tr>\n",
       "      <th>410</th>\n",
       "      <td>1970-01-01 00:00:00.000002013</td>\n",
       "      <td>6.5</td>\n",
       "      <td>90.45606</td>\n",
       "      <td>9</td>\n",
       "      <td>24.97433</td>\n",
       "      <td>121.54310</td>\n",
       "      <td>2</td>\n",
       "      <td>1097</td>\n",
       "      <td>63.9</td>\n",
       "      <td>1</td>\n",
       "      <td>1970</td>\n",
       "      <td>1</td>\n",
       "    </tr>\n",
       "  </tbody>\n",
       "</table>\n",
       "<p>411 rows × 12 columns</p>\n",
       "</div>"
      ],
      "text/plain": [
       "                 transaction_date  house_age  distance_kms_metro  \\\n",
       "0   1970-01-01 00:00:00.000002012       32.0            84.87882   \n",
       "1   1970-01-01 00:00:00.000002012       19.5           306.59470   \n",
       "2   1970-01-01 00:00:00.000002013       13.3           561.98450   \n",
       "3   1970-01-01 00:00:00.000002013       13.3           561.98450   \n",
       "4   1970-01-01 00:00:00.000002012        5.0           390.56840   \n",
       "..                            ...        ...                 ...   \n",
       "406 1970-01-01 00:00:00.000002013       13.7          4082.01500   \n",
       "407 1970-01-01 00:00:00.000002012        5.6            90.45606   \n",
       "408 1970-01-01 00:00:00.000002013       18.8           390.96960   \n",
       "409 1970-01-01 00:00:00.000002013        8.1           104.81010   \n",
       "410 1970-01-01 00:00:00.000002013        6.5            90.45606   \n",
       "\n",
       "     convenience_stores  latitude  longitude  bedrooms  house_size  \\\n",
       "0                    10  24.98298  121.54024         1         575   \n",
       "1                     9  24.98034  121.53951         2        1240   \n",
       "2                     5  24.98746  121.54391         3        1060   \n",
       "3                     5  24.98746  121.54391         2         875   \n",
       "4                     5  24.97937  121.54245         1         491   \n",
       "..                  ...       ...        ...       ...         ...   \n",
       "406                   0  24.94155  121.50381         3         803   \n",
       "407                   9  24.97433  121.54310         2        1278   \n",
       "408                   7  24.97923  121.53986         1         503   \n",
       "409                   5  24.96674  121.54067         1         597   \n",
       "410                   9  24.97433  121.54310         2        1097   \n",
       "\n",
       "     house_price_per_unit  month  year  day  \n",
       "0                    37.9      1  1970    1  \n",
       "1                    42.2      1  1970    1  \n",
       "2                    47.3      1  1970    1  \n",
       "3                    54.8      1  1970    1  \n",
       "4                    43.1      1  1970    1  \n",
       "..                    ...    ...   ...  ...  \n",
       "406                  15.4      1  1970    1  \n",
       "407                  50.0      1  1970    1  \n",
       "408                  40.6      1  1970    1  \n",
       "409                  52.5      1  1970    1  \n",
       "410                  63.9      1  1970    1  \n",
       "\n",
       "[411 rows x 12 columns]"
      ]
     },
     "execution_count": 31,
     "metadata": {},
     "output_type": "execute_result"
    }
   ],
   "source": [
    "df"
   ]
  },
  {
   "cell_type": "code",
   "execution_count": 32,
   "id": "84a96575",
   "metadata": {},
   "outputs": [
    {
     "data": {
      "text/plain": [
       "count    411.000000\n",
       "mean      17.638929\n",
       "std       11.354608\n",
       "min        0.000000\n",
       "25%        8.950000\n",
       "50%       16.100000\n",
       "75%       27.800000\n",
       "max       43.800000\n",
       "Name: house_age, dtype: float64"
      ]
     },
     "execution_count": 32,
     "metadata": {},
     "output_type": "execute_result"
    }
   ],
   "source": [
    "df['house_age'].describe()"
   ]
  },
  {
   "cell_type": "code",
   "execution_count": 33,
   "id": "dd4d4eaf",
   "metadata": {},
   "outputs": [],
   "source": [
    "q1_house_age=df['house_age'].quantile(.25)\n",
    "q3_house_age=df['house_age'].quantile(.75)\n",
    "iqr_house_age=q3_house_age-q1_house_age\n",
    "lower_limit_house_age=df['house_age'].min()\n",
    "upper_limit_house_age=q3_house_age+1.5*iqr_house_age"
   ]
  },
  {
   "cell_type": "code",
   "execution_count": 34,
   "id": "06d1dba8",
   "metadata": {},
   "outputs": [
    {
     "data": {
      "text/plain": [
       "56.075"
      ]
     },
     "execution_count": 34,
     "metadata": {},
     "output_type": "execute_result"
    }
   ],
   "source": [
    "upper_limit_house_age"
   ]
  },
  {
   "cell_type": "code",
   "execution_count": 35,
   "id": "b93256bb",
   "metadata": {},
   "outputs": [
    {
     "data": {
      "text/plain": [
       "0.0"
      ]
     },
     "execution_count": 35,
     "metadata": {},
     "output_type": "execute_result"
    }
   ],
   "source": [
    "lower_limit_house_age"
   ]
  },
  {
   "cell_type": "code",
   "execution_count": 36,
   "id": "f0780724",
   "metadata": {},
   "outputs": [],
   "source": [
    "house_age=df['house_age']"
   ]
  },
  {
   "cell_type": "code",
   "execution_count": 37,
   "id": "2016b7fb",
   "metadata": {},
   "outputs": [],
   "source": [
    "out_house_age=outliers(house_age,upper_limit_house_age,lower_limit_house_age)"
   ]
  },
  {
   "cell_type": "code",
   "execution_count": 38,
   "id": "7d4501ba",
   "metadata": {},
   "outputs": [
    {
     "data": {
      "text/plain": [
       "[]"
      ]
     },
     "execution_count": 38,
     "metadata": {},
     "output_type": "execute_result"
    }
   ],
   "source": [
    "out_house_age"
   ]
  },
  {
   "cell_type": "code",
   "execution_count": 39,
   "id": "ca3f0157",
   "metadata": {},
   "outputs": [
    {
     "data": {
      "text/plain": [
       "count     411.000000\n",
       "mean     1089.953902\n",
       "std      1264.697946\n",
       "min        23.382840\n",
       "25%       289.324800\n",
       "50%       492.231300\n",
       "75%      1455.798000\n",
       "max      6488.021000\n",
       "Name: distance_kms_metro, dtype: float64"
      ]
     },
     "execution_count": 39,
     "metadata": {},
     "output_type": "execute_result"
    }
   ],
   "source": [
    "df['distance_kms_metro'].describe()"
   ]
  },
  {
   "cell_type": "code",
   "execution_count": 40,
   "id": "9a5c19b4",
   "metadata": {},
   "outputs": [],
   "source": [
    "q1_distance_metro=df['distance_kms_metro'].quantile(.25)\n",
    "q3_distance_metro=df['distance_kms_metro'].quantile(.75)\n",
    "iqr_distance_metro=q3_distance_metro-q1_distance_metro\n",
    "lower_limit_distance_metro=df['distance_kms_metro'].min()\n",
    "upper_limit_distance_metro=q3_house_age+1.5*iqr_house_age"
   ]
  },
  {
   "cell_type": "code",
   "execution_count": 41,
   "id": "8532b0f1",
   "metadata": {},
   "outputs": [
    {
     "data": {
      "text/plain": [
       "56.075"
      ]
     },
     "execution_count": 41,
     "metadata": {},
     "output_type": "execute_result"
    }
   ],
   "source": [
    "upper_limit_distance_metro"
   ]
  },
  {
   "cell_type": "code",
   "execution_count": 42,
   "id": "d027e0cf",
   "metadata": {},
   "outputs": [
    {
     "data": {
      "text/plain": [
       "23.38284"
      ]
     },
     "execution_count": 42,
     "metadata": {},
     "output_type": "execute_result"
    }
   ],
   "source": [
    "lower_limit_distance_metro"
   ]
  },
  {
   "cell_type": "code",
   "execution_count": 43,
   "id": "87e13c49",
   "metadata": {},
   "outputs": [
    {
     "data": {
      "text/plain": [
       "count    411.000000\n",
       "mean       4.077859\n",
       "std        2.932371\n",
       "min        0.000000\n",
       "25%        1.000000\n",
       "50%        4.000000\n",
       "75%        6.000000\n",
       "max       10.000000\n",
       "Name: convenience_stores, dtype: float64"
      ]
     },
     "execution_count": 43,
     "metadata": {},
     "output_type": "execute_result"
    }
   ],
   "source": [
    "df['convenience_stores'].describe()"
   ]
  },
  {
   "cell_type": "code",
   "execution_count": 44,
   "id": "609cf23d",
   "metadata": {},
   "outputs": [
    {
     "data": {
      "text/plain": [
       "count    411.000000\n",
       "mean       1.990268\n",
       "std        0.820412\n",
       "min        1.000000\n",
       "25%        1.000000\n",
       "50%        2.000000\n",
       "75%        3.000000\n",
       "max        3.000000\n",
       "Name: bedrooms, dtype: float64"
      ]
     },
     "execution_count": 44,
     "metadata": {},
     "output_type": "execute_result"
    }
   ],
   "source": [
    "df['bedrooms'].describe()"
   ]
  },
  {
   "cell_type": "code",
   "execution_count": 45,
   "id": "de4532db",
   "metadata": {},
   "outputs": [
    {
     "data": {
      "text/plain": [
       "count     411.000000\n",
       "mean      930.992701\n",
       "std       348.408013\n",
       "min       402.000000\n",
       "25%       548.000000\n",
       "50%       975.000000\n",
       "75%      1234.500000\n",
       "max      1500.000000\n",
       "Name: house_size, dtype: float64"
      ]
     },
     "execution_count": 45,
     "metadata": {},
     "output_type": "execute_result"
    }
   ],
   "source": [
    "df['house_size'].describe()"
   ]
  },
  {
   "cell_type": "code",
   "execution_count": 46,
   "id": "086dbabb",
   "metadata": {},
   "outputs": [],
   "source": [
    "q1_house_size=df['distance_kms_metro'].quantile(.25)\n",
    "q3_house_size=df['distance_kms_metro'].quantile(.75)\n",
    "iqr_house_size=q3_distance_metro-q1_distance_metro\n",
    "lower_limit_house_size=q1_house_size-1.5*iqr_house_size\n",
    "upper_limit_house_size=q3_house_age+1.5*iqr_house_size\n"
   ]
  },
  {
   "cell_type": "code",
   "execution_count": 47,
   "id": "b3fcfea2",
   "metadata": {},
   "outputs": [
    {
     "data": {
      "text/plain": [
       "-1460.3849999999998"
      ]
     },
     "execution_count": 47,
     "metadata": {},
     "output_type": "execute_result"
    }
   ],
   "source": [
    "lower_limit_house_size"
   ]
  },
  {
   "cell_type": "code",
   "execution_count": 48,
   "id": "9dd29678",
   "metadata": {},
   "outputs": [
    {
     "data": {
      "text/plain": [
       "1777.5097999999998"
      ]
     },
     "execution_count": 48,
     "metadata": {},
     "output_type": "execute_result"
    }
   ],
   "source": [
    "upper_limit_house_size"
   ]
  },
  {
   "cell_type": "markdown",
   "id": "bbed8d6f",
   "metadata": {},
   "source": [
    "There are no outliers in the independent variables"
   ]
  },
  {
   "cell_type": "code",
   "execution_count": 49,
   "id": "cd2e1f2c",
   "metadata": {},
   "outputs": [
    {
     "data": {
      "text/html": [
       "<div>\n",
       "<style scoped>\n",
       "    .dataframe tbody tr th:only-of-type {\n",
       "        vertical-align: middle;\n",
       "    }\n",
       "\n",
       "    .dataframe tbody tr th {\n",
       "        vertical-align: top;\n",
       "    }\n",
       "\n",
       "    .dataframe thead th {\n",
       "        text-align: right;\n",
       "    }\n",
       "</style>\n",
       "<table border=\"1\" class=\"dataframe\">\n",
       "  <thead>\n",
       "    <tr style=\"text-align: right;\">\n",
       "      <th></th>\n",
       "      <th>house_age</th>\n",
       "      <th>distance_kms_metro</th>\n",
       "      <th>convenience_stores</th>\n",
       "      <th>latitude</th>\n",
       "      <th>longitude</th>\n",
       "      <th>bedrooms</th>\n",
       "      <th>house_size</th>\n",
       "      <th>house_price_per_unit</th>\n",
       "      <th>month</th>\n",
       "      <th>year</th>\n",
       "      <th>day</th>\n",
       "    </tr>\n",
       "  </thead>\n",
       "  <tbody>\n",
       "    <tr>\n",
       "      <th>house_age</th>\n",
       "      <td>1.000000</td>\n",
       "      <td>0.030167</td>\n",
       "      <td>0.035385</td>\n",
       "      <td>0.052285</td>\n",
       "      <td>-0.053527</td>\n",
       "      <td>-0.004279</td>\n",
       "      <td>-0.056855</td>\n",
       "      <td>-0.242852</td>\n",
       "      <td>NaN</td>\n",
       "      <td>NaN</td>\n",
       "      <td>NaN</td>\n",
       "    </tr>\n",
       "    <tr>\n",
       "      <th>distance_kms_metro</th>\n",
       "      <td>0.030167</td>\n",
       "      <td>1.000000</td>\n",
       "      <td>-0.604710</td>\n",
       "      <td>-0.590426</td>\n",
       "      <td>-0.806768</td>\n",
       "      <td>-0.048757</td>\n",
       "      <td>0.003002</td>\n",
       "      <td>-0.701349</td>\n",
       "      <td>NaN</td>\n",
       "      <td>NaN</td>\n",
       "      <td>NaN</td>\n",
       "    </tr>\n",
       "    <tr>\n",
       "      <th>convenience_stores</th>\n",
       "      <td>0.035385</td>\n",
       "      <td>-0.604710</td>\n",
       "      <td>1.000000</td>\n",
       "      <td>0.446079</td>\n",
       "      <td>0.448211</td>\n",
       "      <td>0.048980</td>\n",
       "      <td>0.039828</td>\n",
       "      <td>0.605853</td>\n",
       "      <td>NaN</td>\n",
       "      <td>NaN</td>\n",
       "      <td>NaN</td>\n",
       "    </tr>\n",
       "    <tr>\n",
       "      <th>latitude</th>\n",
       "      <td>0.052285</td>\n",
       "      <td>-0.590426</td>\n",
       "      <td>0.446079</td>\n",
       "      <td>1.000000</td>\n",
       "      <td>0.412657</td>\n",
       "      <td>0.044399</td>\n",
       "      <td>0.029816</td>\n",
       "      <td>0.571849</td>\n",
       "      <td>NaN</td>\n",
       "      <td>NaN</td>\n",
       "      <td>NaN</td>\n",
       "    </tr>\n",
       "    <tr>\n",
       "      <th>longitude</th>\n",
       "      <td>-0.053527</td>\n",
       "      <td>-0.806768</td>\n",
       "      <td>0.448211</td>\n",
       "      <td>0.412657</td>\n",
       "      <td>1.000000</td>\n",
       "      <td>0.043176</td>\n",
       "      <td>0.010539</td>\n",
       "      <td>0.554585</td>\n",
       "      <td>NaN</td>\n",
       "      <td>NaN</td>\n",
       "      <td>NaN</td>\n",
       "    </tr>\n",
       "    <tr>\n",
       "      <th>bedrooms</th>\n",
       "      <td>-0.004279</td>\n",
       "      <td>-0.048757</td>\n",
       "      <td>0.048980</td>\n",
       "      <td>0.044399</td>\n",
       "      <td>0.043176</td>\n",
       "      <td>1.000000</td>\n",
       "      <td>0.753181</td>\n",
       "      <td>0.062808</td>\n",
       "      <td>NaN</td>\n",
       "      <td>NaN</td>\n",
       "      <td>NaN</td>\n",
       "    </tr>\n",
       "    <tr>\n",
       "      <th>house_size</th>\n",
       "      <td>-0.056855</td>\n",
       "      <td>0.003002</td>\n",
       "      <td>0.039828</td>\n",
       "      <td>0.029816</td>\n",
       "      <td>0.010539</td>\n",
       "      <td>0.753181</td>\n",
       "      <td>1.000000</td>\n",
       "      <td>0.035970</td>\n",
       "      <td>NaN</td>\n",
       "      <td>NaN</td>\n",
       "      <td>NaN</td>\n",
       "    </tr>\n",
       "    <tr>\n",
       "      <th>house_price_per_unit</th>\n",
       "      <td>-0.242852</td>\n",
       "      <td>-0.701349</td>\n",
       "      <td>0.605853</td>\n",
       "      <td>0.571849</td>\n",
       "      <td>0.554585</td>\n",
       "      <td>0.062808</td>\n",
       "      <td>0.035970</td>\n",
       "      <td>1.000000</td>\n",
       "      <td>NaN</td>\n",
       "      <td>NaN</td>\n",
       "      <td>NaN</td>\n",
       "    </tr>\n",
       "    <tr>\n",
       "      <th>month</th>\n",
       "      <td>NaN</td>\n",
       "      <td>NaN</td>\n",
       "      <td>NaN</td>\n",
       "      <td>NaN</td>\n",
       "      <td>NaN</td>\n",
       "      <td>NaN</td>\n",
       "      <td>NaN</td>\n",
       "      <td>NaN</td>\n",
       "      <td>NaN</td>\n",
       "      <td>NaN</td>\n",
       "      <td>NaN</td>\n",
       "    </tr>\n",
       "    <tr>\n",
       "      <th>year</th>\n",
       "      <td>NaN</td>\n",
       "      <td>NaN</td>\n",
       "      <td>NaN</td>\n",
       "      <td>NaN</td>\n",
       "      <td>NaN</td>\n",
       "      <td>NaN</td>\n",
       "      <td>NaN</td>\n",
       "      <td>NaN</td>\n",
       "      <td>NaN</td>\n",
       "      <td>NaN</td>\n",
       "      <td>NaN</td>\n",
       "    </tr>\n",
       "    <tr>\n",
       "      <th>day</th>\n",
       "      <td>NaN</td>\n",
       "      <td>NaN</td>\n",
       "      <td>NaN</td>\n",
       "      <td>NaN</td>\n",
       "      <td>NaN</td>\n",
       "      <td>NaN</td>\n",
       "      <td>NaN</td>\n",
       "      <td>NaN</td>\n",
       "      <td>NaN</td>\n",
       "      <td>NaN</td>\n",
       "      <td>NaN</td>\n",
       "    </tr>\n",
       "  </tbody>\n",
       "</table>\n",
       "</div>"
      ],
      "text/plain": [
       "                      house_age  distance_kms_metro  convenience_stores  \\\n",
       "house_age              1.000000            0.030167            0.035385   \n",
       "distance_kms_metro     0.030167            1.000000           -0.604710   \n",
       "convenience_stores     0.035385           -0.604710            1.000000   \n",
       "latitude               0.052285           -0.590426            0.446079   \n",
       "longitude             -0.053527           -0.806768            0.448211   \n",
       "bedrooms              -0.004279           -0.048757            0.048980   \n",
       "house_size            -0.056855            0.003002            0.039828   \n",
       "house_price_per_unit  -0.242852           -0.701349            0.605853   \n",
       "month                       NaN                 NaN                 NaN   \n",
       "year                        NaN                 NaN                 NaN   \n",
       "day                         NaN                 NaN                 NaN   \n",
       "\n",
       "                      latitude  longitude  bedrooms  house_size  \\\n",
       "house_age             0.052285  -0.053527 -0.004279   -0.056855   \n",
       "distance_kms_metro   -0.590426  -0.806768 -0.048757    0.003002   \n",
       "convenience_stores    0.446079   0.448211  0.048980    0.039828   \n",
       "latitude              1.000000   0.412657  0.044399    0.029816   \n",
       "longitude             0.412657   1.000000  0.043176    0.010539   \n",
       "bedrooms              0.044399   0.043176  1.000000    0.753181   \n",
       "house_size            0.029816   0.010539  0.753181    1.000000   \n",
       "house_price_per_unit  0.571849   0.554585  0.062808    0.035970   \n",
       "month                      NaN        NaN       NaN         NaN   \n",
       "year                       NaN        NaN       NaN         NaN   \n",
       "day                        NaN        NaN       NaN         NaN   \n",
       "\n",
       "                      house_price_per_unit  month  year  day  \n",
       "house_age                        -0.242852    NaN   NaN  NaN  \n",
       "distance_kms_metro               -0.701349    NaN   NaN  NaN  \n",
       "convenience_stores                0.605853    NaN   NaN  NaN  \n",
       "latitude                          0.571849    NaN   NaN  NaN  \n",
       "longitude                         0.554585    NaN   NaN  NaN  \n",
       "bedrooms                          0.062808    NaN   NaN  NaN  \n",
       "house_size                        0.035970    NaN   NaN  NaN  \n",
       "house_price_per_unit              1.000000    NaN   NaN  NaN  \n",
       "month                                  NaN    NaN   NaN  NaN  \n",
       "year                                   NaN    NaN   NaN  NaN  \n",
       "day                                    NaN    NaN   NaN  NaN  "
      ]
     },
     "execution_count": 49,
     "metadata": {},
     "output_type": "execute_result"
    }
   ],
   "source": [
    "df.corr()"
   ]
  },
  {
   "cell_type": "code",
   "execution_count": 67,
   "id": "8e684b1f",
   "metadata": {},
   "outputs": [],
   "source": [
    "X=df[['house_age','distance_kms_metro','convenience_stores','latitude','longitude','bedrooms','house_size']]\n",
    "Y=df[['house_price_per_unit']]"
   ]
  },
  {
   "cell_type": "code",
   "execution_count": 68,
   "id": "f8690822",
   "metadata": {},
   "outputs": [
    {
     "data": {
      "text/plain": [
       "house_age             float64\n",
       "distance_kms_metro    float64\n",
       "convenience_stores      int64\n",
       "latitude              float64\n",
       "longitude             float64\n",
       "bedrooms                int64\n",
       "house_size              int64\n",
       "dtype: object"
      ]
     },
     "execution_count": 68,
     "metadata": {},
     "output_type": "execute_result"
    }
   ],
   "source": [
    "X.dtypes"
   ]
  },
  {
   "cell_type": "code",
   "execution_count": 70,
   "id": "f4574cc3",
   "metadata": {},
   "outputs": [],
   "source": [
    "#Scaling the dataset\n",
    "from sklearn.preprocessing import StandardScaler\n",
    "scaler=StandardScaler()\n",
    "X=scaler.fit_transform(X)\n",
    "X=pd.DataFrame(X)"
   ]
  },
  {
   "cell_type": "markdown",
   "id": "bf313a43",
   "metadata": {},
   "source": [
    "# Implementing Linear Regression"
   ]
  },
  {
   "cell_type": "code",
   "execution_count": 72,
   "id": "77bf449b",
   "metadata": {},
   "outputs": [],
   "source": [
    "from sklearn.model_selection import train_test_split\n",
    "x_train,x_test,y_train,y_test=train_test_split(X,Y,test_size=0.2)"
   ]
  },
  {
   "cell_type": "code",
   "execution_count": null,
   "id": "8a5aba2e",
   "metadata": {},
   "outputs": [],
   "source": [
    "#Scaling the dataset\n",
    "from sklearn.preprocessing import StandardScaler\n",
    "scaler=StandardScaler()\n",
    "X=scaler.fit_transform(X)"
   ]
  },
  {
   "cell_type": "code",
   "execution_count": 73,
   "id": "2cf2bd14",
   "metadata": {},
   "outputs": [
    {
     "data": {
      "text/plain": [
       "LinearRegression(normalize=True)"
      ]
     },
     "execution_count": 73,
     "metadata": {},
     "output_type": "execute_result"
    }
   ],
   "source": [
    "from sklearn.linear_model import LinearRegression\n",
    "# We set this paramter normalize is equal to true so that that value of y intercept will be equal to zero\n",
    "lr=LinearRegression(normalize=True)\n",
    "#the lr.fit function will implement gradient descent to find the optimal values of coefficients i.e the slope of the line\n",
    "lr.fit(x_train,y_train)"
   ]
  },
  {
   "cell_type": "code",
   "execution_count": 74,
   "id": "2a5beaad",
   "metadata": {},
   "outputs": [
    {
     "name": "stdout",
     "output_type": "stream",
     "text": [
      " Liner Regression Train Score(R2) = 0.6123757889391823\n",
      " Linear Regression Test Score(R2) = 0.7349731191570978\n"
     ]
    }
   ],
   "source": [
    "predicted_value=lr.predict(x_test)\n",
    "train_score=lr.score(x_train,y_train)\n",
    "test_score=lr.score(x_test,y_test)\n",
    "print(\" Liner Regression Train Score(R2) = {}\".format(train_score))\n",
    "print(\" Linear Regression Test Score(R2) = {}\".format(test_score))"
   ]
  },
  {
   "cell_type": "markdown",
   "id": "d61d963f",
   "metadata": {},
   "source": [
    "# Implementing Ridge and Lasso Regression"
   ]
  },
  {
   "cell_type": "code",
   "execution_count": 76,
   "id": "b471c81e",
   "metadata": {},
   "outputs": [],
   "source": [
    "from sklearn.linear_model import Ridge\n",
    "from sklearn.linear_model import Lasso"
   ]
  },
  {
   "cell_type": "code",
   "execution_count": 77,
   "id": "5083a177",
   "metadata": {},
   "outputs": [
    {
     "data": {
      "text/plain": [
       "Ridge(alpha=0.3)"
      ]
     },
     "execution_count": 77,
     "metadata": {},
     "output_type": "execute_result"
    }
   ],
   "source": [
    "ridge=Ridge(alpha=.3)\n",
    "ridge.fit(x_train,y_train)"
   ]
  },
  {
   "cell_type": "code",
   "execution_count": 78,
   "id": "6b19ba59",
   "metadata": {},
   "outputs": [
    {
     "data": {
      "text/plain": [
       "array([[-3.20817155, -4.76845877,  3.47460405,  2.88144791,  0.31470525,\n",
       "         0.50906889, -0.42319754]])"
      ]
     },
     "execution_count": 78,
     "metadata": {},
     "output_type": "execute_result"
    }
   ],
   "source": [
    "ridge.coef_"
   ]
  },
  {
   "cell_type": "code",
   "execution_count": 79,
   "id": "15c0f7be",
   "metadata": {},
   "outputs": [],
   "source": [
    "predicted_ridge=ridge.predict(x_test)"
   ]
  },
  {
   "cell_type": "code",
   "execution_count": 80,
   "id": "e8f1c57b",
   "metadata": {},
   "outputs": [
    {
     "name": "stdout",
     "output_type": "stream",
     "text": [
      " Ridge Regression train score(R2) = 0.6123754107193935\n",
      " Ridge Regression test score(R2) = 0.734961178625772\n"
     ]
    }
   ],
   "source": [
    "ridge_train_score=ridge.score(x_train,y_train)\n",
    "ridge_test_score=ridge.score(x_test,y_test)\n",
    "print(\" Ridge Regression train score(R2) = {}\".format(ridge_train_score))\n",
    "print(\" Ridge Regression test score(R2) = {}\".format(ridge_test_score))"
   ]
  },
  {
   "cell_type": "code",
   "execution_count": 81,
   "id": "dd88f26a",
   "metadata": {},
   "outputs": [
    {
     "data": {
      "text/plain": [
       "array([-2.86877888, -4.99588001,  3.24496464,  2.66216729,  0.0481154 ,\n",
       "        0.        , -0.        ])"
      ]
     },
     "execution_count": 81,
     "metadata": {},
     "output_type": "execute_result"
    }
   ],
   "source": [
    "lasso=Lasso(alpha=.3)\n",
    "lasso.fit(x_train,y_train)\n",
    "lasso.coef_"
   ]
  },
  {
   "cell_type": "code",
   "execution_count": 82,
   "id": "40443691",
   "metadata": {},
   "outputs": [],
   "source": [
    "predicted_lasso=lasso.predict(x_test)"
   ]
  },
  {
   "cell_type": "code",
   "execution_count": 83,
   "id": "7d7ddc38",
   "metadata": {},
   "outputs": [
    {
     "name": "stdout",
     "output_type": "stream",
     "text": [
      " Lasso Regression train score = 0.6102896617630726\n",
      " Lasso Regression test score = 0.7312833220780772\n"
     ]
    }
   ],
   "source": [
    "lasso_train_score=lasso.score(x_train,y_train)\n",
    "lasso_test_score=lasso.score(x_test,y_test)\n",
    "print(\" Lasso Regression train score = {}\".format(lasso_train_score))\n",
    "print(\" Lasso Regression test score = {}\".format(lasso_test_score))"
   ]
  },
  {
   "cell_type": "markdown",
   "id": "78a9703e",
   "metadata": {},
   "source": [
    "# Implementing KNN"
   ]
  },
  {
   "cell_type": "code",
   "execution_count": 85,
   "id": "d05bd9a8",
   "metadata": {},
   "outputs": [],
   "source": [
    "X_KNN=df[['house_age','distance_kms_metro','convenience_stores','latitude','longitude','bedrooms','house_size']]\n",
    "Y_KNN=df[['house_price_per_unit']]"
   ]
  },
  {
   "cell_type": "code",
   "execution_count": 86,
   "id": "4b04f06d",
   "metadata": {},
   "outputs": [],
   "source": [
    "from sklearn.preprocessing import MinMaxScaler\n",
    "scaler=MinMaxScaler()\n",
    "X_KNN=scaler.fit_transform(X_KNN)"
   ]
  },
  {
   "cell_type": "code",
   "execution_count": 87,
   "id": "2f5a2b49",
   "metadata": {},
   "outputs": [],
   "source": [
    "from sklearn.model_selection import train_test_split\n",
    "x_train_knn,x_test_knn,y_train_knn,y_test_knn=train_test_split(X_KNN,Y_KNN,random_state=1,test_size=0.3)"
   ]
  },
  {
   "cell_type": "code",
   "execution_count": 91,
   "id": "60bf0f71",
   "metadata": {},
   "outputs": [
    {
     "name": "stdout",
     "output_type": "stream",
     "text": [
      " MSE of for the test dataset is  61.687477419354835\n"
     ]
    }
   ],
   "source": [
    "from sklearn.neighbors import KNeighborsRegressor as KNN\n",
    "from sklearn.metrics import mean_squared_error as MSE\n",
    "kreg=KNN(n_neighbors=5)\n",
    "kreg.fit(x_train_knn,y_train_knn)\n",
    "y_predicted=kreg.predict(x_test_knn)\n",
    "k=MSE(y_predicted,y_test_knn)\n",
    "print(' MSE of for the test dataset is ',k)"
   ]
  },
  {
   "cell_type": "code",
   "execution_count": 92,
   "id": "e164703d",
   "metadata": {},
   "outputs": [],
   "source": [
    "def elbow(K):\n",
    "    mse_list=[]\n",
    "    for i in K:\n",
    "        kreg=KNN(n_neighbors=i)\n",
    "        kreg.fit(x_train_knn,y_train_knn)\n",
    "        y_predicted=kreg.predict(x_test_knn)\n",
    "        error=MSE(y_predicted,y_test_knn)\n",
    "        mse_list.append(error)\n",
    "    return mse_list\n",
    "K=range(1,50,2)\n",
    "mse_knn=elbow(K)"
   ]
  },
  {
   "cell_type": "code",
   "execution_count": 93,
   "id": "1c02e669",
   "metadata": {},
   "outputs": [
    {
     "data": {
      "image/png": "[encoded data removed]",
      "text/plain": [
       "<Figure size 720x480 with 1 Axes>"
      ]
     },
     "metadata": {
      "needs_background": "light"
     },
     "output_type": "display_data"
    }
   ],
   "source": [
    "plt.figure(dpi=120)\n",
    "plt.plot(K,mse_knn,color='Red')\n",
    "plt.xlabel(\"Different values of K\")\n",
    "plt.ylabel(\" Mean Squared Error\")\n",
    "plt.title(\" Elbow Curve \")\n",
    "plt.show()"
   ]
  },
  {
   "cell_type": "markdown",
   "id": "5b30a225",
   "metadata": {},
   "source": [
    "Here we select the value of k as 10 as it has the least value of means squared error at k=10"
   ]
  },
  {
   "cell_type": "code",
   "execution_count": 94,
   "id": "c998b945",
   "metadata": {},
   "outputs": [],
   "source": [
    "kreg=KNN(n_neighbors=10)\n",
    "kreg.fit(x_train_knn,y_train_knn)\n",
    "y_predicted=kreg.predict(x_test_knn)\n",
    "mse_knn=MSE(y_predicted,y_test_knn)"
   ]
  },
  {
   "cell_type": "code",
   "execution_count": 95,
   "id": "d51cab15",
   "metadata": {},
   "outputs": [
    {
     "data": {
      "text/plain": [
       "57.895202419354845"
      ]
     },
     "execution_count": 95,
     "metadata": {},
     "output_type": "execute_result"
    }
   ],
   "source": [
    "mse_knn"
   ]
  },
  {
   "cell_type": "code",
   "execution_count": 96,
   "id": "92994f0a",
   "metadata": {},
   "outputs": [
    {
     "name": "stdout",
     "output_type": "stream",
     "text": [
      " R2 score(Decision Tree Regression) for training dataset is 0.6748268561386068 \n"
     ]
    }
   ],
   "source": [
    "train_score_knn=kreg.score(x_train_knn,y_train_knn)\n",
    "print(\" R2 score(Decision Tree Regression) for training dataset is {} \".format(train_score_knn))"
   ]
  },
  {
   "cell_type": "code",
   "execution_count": 97,
   "id": "3e860f4b",
   "metadata": {},
   "outputs": [
    {
     "name": "stdout",
     "output_type": "stream",
     "text": [
      " R2 score(Decision Tree Regression) for testing dataset is 0.6646258790140176 \n"
     ]
    }
   ],
   "source": [
    "test_score_knn=kreg.score(x_test_knn,y_test_knn)\n",
    "print(\" R2 score(Decision Tree Regression) for testing dataset is {} \".format(test_score_knn))"
   ]
  },
  {
   "cell_type": "markdown",
   "id": "83709a16",
   "metadata": {},
   "source": [
    "# Implementing Regression Tree"
   ]
  },
  {
   "cell_type": "code",
   "execution_count": 98,
   "id": "815d583c",
   "metadata": {},
   "outputs": [],
   "source": [
    "from sklearn.model_selection import cross_val_score\n",
    "from sklearn.tree import DecisionTreeRegressor\n",
    "from sklearn.metrics import mean_squared_error as MSE"
   ]
  },
  {
   "cell_type": "code",
   "execution_count": 99,
   "id": "79b52352",
   "metadata": {},
   "outputs": [],
   "source": [
    "X_tree=df[['house_age','distance_kms_metro','convenience_stores','latitude','longitude','bedrooms','house_size']]\n",
    "Y_tree=df[['house_price_per_unit']]"
   ]
  },
  {
   "cell_type": "code",
   "execution_count": 100,
   "id": "b375f1be",
   "metadata": {},
   "outputs": [],
   "source": [
    "from sklearn.model_selection import train_test_split\n",
    "x_train_tree,x_test_tree,y_train_tree,y_test_tree=train_test_split(X_tree,Y_tree,random_state=1,test_size=0.3)"
   ]
  },
  {
   "cell_type": "code",
   "execution_count": 101,
   "id": "ac03f2e7",
   "metadata": {},
   "outputs": [
    {
     "name": "stdout",
     "output_type": "stream",
     "text": [
      "Train MSE = 0.0\n",
      "Test MSE = 73.49161290322579\n"
     ]
    }
   ],
   "source": [
    "tree=DecisionTreeRegressor(random_state=1)\n",
    "dreg=tree.fit(x_train_tree,y_train_tree)\n",
    "y_train_predict=tree.predict(x_train_tree)\n",
    "y_test_predict=tree.predict(x_test_tree)\n",
    "mse_train=MSE(y_train_predict,y_train_tree)\n",
    "mse_test=MSE(y_test_predict,y_test_tree)\n",
    "print('Train MSE = {}'.format(mse_train))\n",
    "print('Test MSE = {}'.format(mse_test))"
   ]
  },
  {
   "cell_type": "code",
   "execution_count": 102,
   "id": "cef8d183",
   "metadata": {},
   "outputs": [],
   "source": [
    "train_score_reg=tree.score(x_train_tree,y_train_tree)\n",
    "test_score_reg=tree.score(x_test_tree,y_test_tree)"
   ]
  },
  {
   "cell_type": "code",
   "execution_count": 103,
   "id": "b6db54b4",
   "metadata": {},
   "outputs": [
    {
     "name": "stdout",
     "output_type": "stream",
     "text": [
      "Train R2 Score for Decision tree(Regression) = 1.0\n",
      "Test R2 Score for Decision tree(Regression) = 0.5742793176758689\n"
     ]
    }
   ],
   "source": [
    "print('Train R2 Score for Decision tree(Regression) = {}'.format(train_score_reg))\n",
    "print('Test R2 Score for Decision tree(Regression) = {}'.format(test_score_reg))"
   ]
  },
  {
   "cell_type": "code",
   "execution_count": 104,
   "id": "6b9ebcbf",
   "metadata": {},
   "outputs": [],
   "source": [
    "score=pd.DataFrame({'Model Name':['Linear Regression','Ridge Regression','Lasso Regression','KNN','Decision Tree Regression'], 'Train R2 Score' : [0.313777,ridge_train_score,lasso_train_score,train_score_knn,train_score_reg],'Test R2 Score':[test_score,ridge_test_score,lasso_test_score,test_score_knn,test_score_reg]})"
   ]
  },
  {
   "cell_type": "code",
   "execution_count": 105,
   "id": "c161641b",
   "metadata": {},
   "outputs": [
    {
     "data": {
      "text/html": [
       "<div>\n",
       "<style scoped>\n",
       "    .dataframe tbody tr th:only-of-type {\n",
       "        vertical-align: middle;\n",
       "    }\n",
       "\n",
       "    .dataframe tbody tr th {\n",
       "        vertical-align: top;\n",
       "    }\n",
       "\n",
       "    .dataframe thead th {\n",
       "        text-align: right;\n",
       "    }\n",
       "</style>\n",
       "<table border=\"1\" class=\"dataframe\">\n",
       "  <thead>\n",
       "    <tr style=\"text-align: right;\">\n",
       "      <th></th>\n",
       "      <th>Model Name</th>\n",
       "      <th>Train R2 Score</th>\n",
       "      <th>Test R2 Score</th>\n",
       "    </tr>\n",
       "  </thead>\n",
       "  <tbody>\n",
       "    <tr>\n",
       "      <th>0</th>\n",
       "      <td>Linear Regression</td>\n",
       "      <td>0.313777</td>\n",
       "      <td>0.734973</td>\n",
       "    </tr>\n",
       "    <tr>\n",
       "      <th>1</th>\n",
       "      <td>Ridge Regression</td>\n",
       "      <td>0.612375</td>\n",
       "      <td>0.734961</td>\n",
       "    </tr>\n",
       "    <tr>\n",
       "      <th>2</th>\n",
       "      <td>Lasso Regression</td>\n",
       "      <td>0.610290</td>\n",
       "      <td>0.731283</td>\n",
       "    </tr>\n",
       "    <tr>\n",
       "      <th>3</th>\n",
       "      <td>KNN</td>\n",
       "      <td>0.674827</td>\n",
       "      <td>0.664626</td>\n",
       "    </tr>\n",
       "    <tr>\n",
       "      <th>4</th>\n",
       "      <td>Decision Tree Regression</td>\n",
       "      <td>1.000000</td>\n",
       "      <td>0.574279</td>\n",
       "    </tr>\n",
       "  </tbody>\n",
       "</table>\n",
       "</div>"
      ],
      "text/plain": [
       "                 Model Name  Train R2 Score  Test R2 Score\n",
       "0         Linear Regression        0.313777       0.734973\n",
       "1          Ridge Regression        0.612375       0.734961\n",
       "2          Lasso Regression        0.610290       0.731283\n",
       "3                       KNN        0.674827       0.664626\n",
       "4  Decision Tree Regression        1.000000       0.574279"
      ]
     },
     "execution_count": 105,
     "metadata": {},
     "output_type": "execute_result"
    }
   ],
   "source": [
    "score"
   ]
  },
  {
   "cell_type": "code",
   "execution_count": 106,
   "id": "e54cc5a6",
   "metadata": {},
   "outputs": [
    {
     "data": {
      "text/plain": [
       "Text(0, 0.5, 'Model Name ')"
      ]
     },
     "execution_count": 106,
     "metadata": {},
     "output_type": "execute_result"
    },
    {
     "data": {
      "image/png": "[encoded data removed]",
      "text/plain": [
       "<Figure size 720x480 with 1 Axes>"
      ]
     },
     "metadata": {
      "needs_background": "light"
     },
     "output_type": "display_data"
    }
   ],
   "source": [
    "plt.figure(dpi=120)\n",
    "plt.barh(score['Model Name'],score['Train R2 Score'])\n",
    "plt.title(\" Train R2 Score of all models\")\n",
    "plt.xlabel(\" Train R2 Score \")\n",
    "plt.ylabel(\"Model Name \")"
   ]
  },
  {
   "cell_type": "markdown",
   "id": "466c1de9",
   "metadata": {},
   "source": [
    "From the above plots we can conculde that decison tree regression works the best which is having the maximum R2 score and the least R2 score is with linear regression"
   ]
  },
  {
   "cell_type": "code",
   "execution_count": 110,
   "id": "bfce5853",
   "metadata": {},
   "outputs": [
    {
     "data": {
      "text/plain": [
       "Text(0, 0.5, ' Model Name ')"
      ]
     },
     "execution_count": 110,
     "metadata": {},
     "output_type": "execute_result"
    },
    {
     "data": {
      "image/png": "[encoded data removed]",
      "text/plain": [
       "<Figure size 720x480 with 1 Axes>"
      ]
     },
     "metadata": {
      "needs_background": "light"
     },
     "output_type": "display_data"
    }
   ],
   "source": [
    "plt.figure(dpi=120)\n",
    "plt.barh(score['Model Name'],score['Test R2 Score'])\n",
    "plt.title(\" Test R2 Score of all models\")\n",
    "plt.xlabel(\" Test R2 Score \")\n",
    "plt.ylabel(\" Model Name \")"
   ]
  },
  {
   "cell_type": "markdown",
   "id": "aa9b94dd",
   "metadata": {},
   "source": [
    "From the above graph we can conclude that the test R2 score for the linear regression was the best amongst all and the decision tree regression had the worst R2 score "
   ]
  },
  {
   "cell_type": "code",
   "execution_count": null,
   "id": "90720398",
   "metadata": {},
   "outputs": [],
   "source": []
  },
  {
   "cell_type": "code",
   "execution_count": null,
   "id": "feb08a9f",
   "metadata": {},
   "outputs": [],
   "source": []
  },
  {
   "cell_type": "code",
   "execution_count": null,
   "id": "2b6108ef",
   "metadata": {},
   "outputs": [],
   "source": []
  },
  {
   "cell_type": "code",
   "execution_count": null,
   "id": "ca4dcb4e",
   "metadata": {},
   "outputs": [],
   "source": []
  },
  {
   "cell_type": "code",
   "execution_count": null,
   "id": "29be8387",
   "metadata": {},
   "outputs": [],
   "source": []
  },
  {
   "cell_type": "code",
   "execution_count": null,
   "id": "1bf33d8f",
   "metadata": {},
   "outputs": [],
   "source": []
  },
  {
   "cell_type": "code",
   "execution_count": null,
   "id": "248bef83",
   "metadata": {},
   "outputs": [],
   "source": []
  },
  {
   "cell_type": "code",
   "execution_count": null,
   "id": "f8d726dd",
   "metadata": {},
   "outputs": [],
   "source": []
  },
  {
   "cell_type": "code",
   "execution_count": null,
   "id": "485bd402",
   "metadata": {},
   "outputs": [],
   "source": []
  },
  {
   "cell_type": "code",
   "execution_count": null,
   "id": "4d98d13b",
   "metadata": {},
   "outputs": [],
   "source": []
  },
  {
   "cell_type": "code",
   "execution_count": null,
   "id": "44665eef",
   "metadata": {},
   "outputs": [],
   "source": []
  }
 ],
 "metadata": {
  "kernelspec": {
   "display_name": "Python 3",
   "language": "python",
   "name": "python3"
  },
  "language_info": {
   "codemirror_mode": {
    "name": "ipython",
    "version": 3
   },
   "file_extension": ".py",
   "mimetype": "text/x-python",
   "name": "python",
   "nbconvert_exporter": "python",
   "pygments_lexer": "ipython3",
   "version": "3.8.8"
  }
 },
 "nbformat": 4,
 "nbformat_minor": 5
}
